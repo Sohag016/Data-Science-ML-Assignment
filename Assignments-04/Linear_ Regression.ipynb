{
 "cells": [
  {
   "cell_type": "code",
   "execution_count": 1,
   "id": "bc11a2d3-ca80-477d-9ec1-7a33376c71cf",
   "metadata": {},
   "outputs": [],
   "source": [
    "import pandas as pd\n",
    "import matplotlib.pyplot as plt"
   ]
  },
  {
   "cell_type": "markdown",
   "id": "3e371aab-3e4b-42e5-9a95-7f0fb43bbbc7",
   "metadata": {},
   "source": [
    "## Define data"
   ]
  },
  {
   "cell_type": "code",
   "execution_count": 2,
   "id": "a9a6050b-4228-4817-adf9-f16963b59cbe",
   "metadata": {},
   "outputs": [],
   "source": [
    "weight = [2,4,5,3,6,5,7]\n",
    "price =[35,60,20,50,50,55,60]"
   ]
  },
  {
   "cell_type": "markdown",
   "id": "f9963dbc-6244-467e-b144-47ee3b35aa34",
   "metadata": {},
   "source": [
    "## Creating Dataframe"
   ]
  },
  {
   "cell_type": "code",
   "execution_count": 3,
   "id": "6c20b52e-fd79-4c86-a57c-60f04dd331e0",
   "metadata": {},
   "outputs": [],
   "source": [
    "Data_frame =pd.DataFrame({\n",
    "    'weight': weight,\n",
    "    'price': price\n",
    "})"
   ]
  },
  {
   "cell_type": "markdown",
   "id": "7f24521b-2c19-45f2-8e20-da5bd4149cd2",
   "metadata": {},
   "source": [
    "## Plotting"
   ]
  },
  {
   "cell_type": "code",
   "execution_count": 4,
   "id": "777d4f24-a7fc-4284-b37c-b635d02481bb",
   "metadata": {},
   "outputs": [
    {
     "data": {
      "image/png": "[encoded data removed]",
      "text/plain": [
       "<Figure size 640x480 with 1 Axes>"
      ]
     },
     "metadata": {},
     "output_type": "display_data"
    }
   ],
   "source": [
    "plt.scatter(Data_frame['weight'],Data_frame['price'],marker='*',color='black')\n",
    "plt.xlabel('weight')\n",
    "plt.ylabel('price')\n",
    "plt.show()"
   ]
  },
  {
   "cell_type": "markdown",
   "id": "1a719f01-ca6b-4b8f-9442-86843fd09cc0",
   "metadata": {},
   "source": [
    "## Calculate and print the mean of the 'weight'  and 'price' column"
   ]
  },
  {
   "cell_type": "code",
   "execution_count": 5,
   "id": "22f4eddf-fa90-4691-a6a5-17cedf8ffc6e",
   "metadata": {},
   "outputs": [
    {
     "name": "stdout",
     "output_type": "stream",
     "text": [
      "Mean of weight value: 4.571428571428571\n",
      "Mean of price value: 47.142857142857146\n"
     ]
    }
   ],
   "source": [
    "print(f'Mean of weight value: {Data_frame.weight.mean()}')\n",
    "print(f'Mean of price value: {Data_frame.price.mean()}')"
   ]
  },
  {
   "cell_type": "markdown",
   "id": "39ffc8fa-efcc-4d3e-9184-c1e6638d6f3d",
   "metadata": {},
   "source": [
    "### Remove the 'price' column from Data_frame and store the result in 'x'\n",
    "### Remove the 'weight' column from Data_frame and store the result in 'y'"
   ]
  },
  {
   "cell_type": "code",
   "execution_count": 6,
   "id": "7f8fed1b-7f42-4327-9f18-54cdcf631752",
   "metadata": {},
   "outputs": [],
   "source": [
    "x= Data_frame.drop('price' ,axis=1)\n",
    "y= Data_frame.drop('weight',axis=1)"
   ]
  },
  {
   "cell_type": "code",
   "execution_count": 16,
   "id": "e5aba266-4b41-4324-a165-36af05a241aa",
   "metadata": {},
   "outputs": [
    {
     "name": "stdout",
     "output_type": "stream",
     "text": [
      "Slope=  [[2.62096774]]\n"
     ]
    }
   ],
   "source": [
    "# Fit the linear regression model to the data and retrieve the coefficient (slope) of the regression line\n",
    "from sklearn.linear_model import LinearRegression \n",
    "reg = LinearRegression()  \n",
    "reg.fit(x, y)\n",
    "print(f'Slope=  {reg.coef_}')  \n"
   ]
  },
  {
   "cell_type": "code",
   "execution_count": 14,
   "id": "5b425741-fa6f-4897-bf59-8010d707815a",
   "metadata": {},
   "outputs": [
    {
     "name": "stdout",
     "output_type": "stream",
     "text": [
      "Intercept=  [35.16129032]\n"
     ]
    }
   ],
   "source": [
    "print(f'Intercept=  {reg.intercept_}')"
   ]
  },
  {
   "cell_type": "markdown",
   "id": "f6d60744-acd7-4b71-ac7e-94dc44b772ab",
   "metadata": {},
   "source": [
    "##Task 01: Your objective is to manually compute the slope (M) and y-intercept (C) using Ordinary Least Squares Linear Regression. Once determined, apply these values to predict the price when the vegetable weight is 6."
   ]
  },
  {
   "cell_type": "code",
   "execution_count": 19,
   "id": "57fec671-a14a-47d2-8150-035158220e78",
   "metadata": {},
   "outputs": [
    {
     "name": "stdout",
     "output_type": "stream",
     "text": [
      "Predict the price=  [[50.88709677]]\n"
     ]
    },
    {
     "name": "stderr",
     "output_type": "stream",
     "text": [
      "C:\\Users\\User\\AppData\\Local\\Programs\\Python\\Python312\\Lib\\site-packages\\sklearn\\base.py:493: UserWarning: X does not have valid feature names, but LinearRegression was fitted with feature names\n",
      "  warnings.warn(\n"
     ]
    }
   ],
   "source": [
    "print(f'Predict the price=  {reg.predict([[6]])}')"
   ]
  },
  {
   "cell_type": "markdown",
   "id": "298dd868-c2c7-4c66-98e6-13326b6c12f2",
   "metadata": {},
   "source": [
    "##Task 02: Compute the residuals for each data point."
   ]
  },
  {
   "cell_type": "code",
   "execution_count": 24,
   "id": "01c5b57f-e633-443d-8669-a152488e9c94",
   "metadata": {},
   "outputs": [
    {
     "data": {
      "text/html": [
       "<div>\n",
       "<style scoped>\n",
       "    .dataframe tbody tr th:only-of-type {\n",
       "        vertical-align: middle;\n",
       "    }\n",
       "\n",
       "    .dataframe tbody tr th {\n",
       "        vertical-align: top;\n",
       "    }\n",
       "\n",
       "    .dataframe thead th {\n",
       "        text-align: right;\n",
       "    }\n",
       "</style>\n",
       "<table border=\"1\" class=\"dataframe\">\n",
       "  <thead>\n",
       "    <tr style=\"text-align: right;\">\n",
       "      <th></th>\n",
       "      <th>weight</th>\n",
       "      <th>price</th>\n",
       "      <th>predict</th>\n",
       "      <th>residuals</th>\n",
       "    </tr>\n",
       "  </thead>\n",
       "  <tbody>\n",
       "    <tr>\n",
       "      <th>0</th>\n",
       "      <td>2</td>\n",
       "      <td>35</td>\n",
       "      <td>40.403226</td>\n",
       "      <td>-5.403226</td>\n",
       "    </tr>\n",
       "    <tr>\n",
       "      <th>1</th>\n",
       "      <td>4</td>\n",
       "      <td>60</td>\n",
       "      <td>45.645161</td>\n",
       "      <td>14.354839</td>\n",
       "    </tr>\n",
       "    <tr>\n",
       "      <th>2</th>\n",
       "      <td>5</td>\n",
       "      <td>20</td>\n",
       "      <td>48.266129</td>\n",
       "      <td>-28.266129</td>\n",
       "    </tr>\n",
       "    <tr>\n",
       "      <th>3</th>\n",
       "      <td>3</td>\n",
       "      <td>50</td>\n",
       "      <td>43.024194</td>\n",
       "      <td>6.975806</td>\n",
       "    </tr>\n",
       "    <tr>\n",
       "      <th>4</th>\n",
       "      <td>6</td>\n",
       "      <td>50</td>\n",
       "      <td>50.887097</td>\n",
       "      <td>-0.887097</td>\n",
       "    </tr>\n",
       "    <tr>\n",
       "      <th>5</th>\n",
       "      <td>5</td>\n",
       "      <td>55</td>\n",
       "      <td>48.266129</td>\n",
       "      <td>6.733871</td>\n",
       "    </tr>\n",
       "    <tr>\n",
       "      <th>6</th>\n",
       "      <td>7</td>\n",
       "      <td>60</td>\n",
       "      <td>53.508065</td>\n",
       "      <td>6.491935</td>\n",
       "    </tr>\n",
       "  </tbody>\n",
       "</table>\n",
       "</div>"
      ],
      "text/plain": [
       "   weight  price    predict  residuals\n",
       "0       2     35  40.403226  -5.403226\n",
       "1       4     60  45.645161  14.354839\n",
       "2       5     20  48.266129 -28.266129\n",
       "3       3     50  43.024194   6.975806\n",
       "4       6     50  50.887097  -0.887097\n",
       "5       5     55  48.266129   6.733871\n",
       "6       7     60  53.508065   6.491935"
      ]
     },
     "execution_count": 24,
     "metadata": {},
     "output_type": "execute_result"
    }
   ],
   "source": [
    "Data_frame['predict']=reg.predict(x)\n",
    "Data_frame['residuals']=Data_frame[['price']]-reg.predict(x)\n",
    "Data_frame\n"
   ]
  },
  {
   "cell_type": "code",
   "execution_count": 28,
   "id": "c3e1036b-7bc4-4f7a-9bb4-df5410e212c2",
   "metadata": {},
   "outputs": [
    {
     "data": {
      "text/plain": [
       "<matplotlib.collections.PathCollection at 0x1c25667f1a0>"
      ]
     },
     "execution_count": 28,
     "metadata": {},
     "output_type": "execute_result"
    },
    {
     "data": {
      "image/png": "[encoded data removed]",
      "text/plain": [
       "<Figure size 640x480 with 1 Axes>"
      ]
     },
     "metadata": {},
     "output_type": "display_data"
    }
   ],
   "source": [
    "plt.scatter(Data_frame['weight'],Data_frame['predict'],marker='*',color='black')"
   ]
  },
  {
   "cell_type": "code",
   "execution_count": 29,
   "id": "6800cbd8-8ab8-412a-82f2-70abd55a0e54",
   "metadata": {},
   "outputs": [
    {
     "data": {
      "text/plain": [
       "[<matplotlib.lines.Line2D at 0x1c256da9520>]"
      ]
     },
     "execution_count": 29,
     "metadata": {},
     "output_type": "execute_result"
    },
    {
     "data": {
      "image/png": "[encoded data removed]",
      "text/plain": [
       "<Figure size 640x480 with 1 Axes>"
      ]
     },
     "metadata": {},
     "output_type": "display_data"
    }
   ],
   "source": [
    "plt.scatter(Data_frame['weight'],Data_frame['price'],marker='*',color='black')\n",
    "plt.scatter(Data_frame['weight'],Data_frame['predict'],marker='o',color='red')\n",
    "plt.plot(Data_frame['weight'],Data_frame['predict'])"
   ]
  },
  {
   "cell_type": "markdown",
   "id": "24362740-1bf9-4570-a292-58689ab45a7d",
   "metadata": {},
   "source": [
    "##Task 03: Calculate both the Mean Squared Error (MSE) and Mean Absolute Error (MAE)."
   ]
  },
  {
   "cell_type": "code",
   "execution_count": 33,
   "id": "77e24bc4-9243-4eff-9e81-95023a283e47",
   "metadata": {},
   "outputs": [
    {
     "name": "stdout",
     "output_type": "stream",
     "text": [
      "Mean Squared Error= 167.30990783410135\n",
      "Mean Absolute Error= 9.87327188940092\n"
     ]
    }
   ],
   "source": [
    "from sklearn.metrics import mean_squared_error,mean_absolute_error\n",
    "MSE=mean_squared_error(Data_frame['price'],Data_frame['predict'])\n",
    "print(f'Mean Squared Error= {MSE}')\n",
    "MAE=mean_absolute_error(Data_frame['price'],Data_frame['predict'])\n",
    "print(f'Mean Absolute Error= {MAE}')\n"
   ]
  },
  {
   "cell_type": "code",
   "execution_count": null,
   "id": "9faf5677-e17c-4fac-b03b-3cade9284352",
   "metadata": {},
   "outputs": [],
   "source": []
  }
 ],
 "metadata": {
  "kernelspec": {
   "display_name": "Python 3 (ipykernel)",
   "language": "python",
   "name": "python3"
  },
  "language_info": {
   "codemirror_mode": {
    "name": "ipython",
    "version": 3
   },
   "file_extension": ".py",
   "mimetype": "text/x-python",
   "name": "python",
   "nbconvert_exporter": "python",
   "pygments_lexer": "ipython3",
   "version": "3.12.3"
  }
 },
 "nbformat": 4,
 "nbformat_minor": 5
}
