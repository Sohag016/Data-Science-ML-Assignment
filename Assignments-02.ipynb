{
 "cells": [
  {
   "cell_type": "code",
   "execution_count": 1,
   "id": "b0cb4457-d23e-4a3b-9189-5cb5b012cc1b",
   "metadata": {},
   "outputs": [
    {
     "name": "stdout",
     "output_type": "stream",
     "text": [
      "(13, 12)\n"
     ]
    }
   ],
   "source": [
    "#Variables\n",
    "\n",
    "#1. Write a program that swaps the values of two variables.\n",
    "def swap (a,b):\n",
    "       return b,a\n",
    "a=12\n",
    "b=13\n",
    "result= swap(a,b)\n",
    "print (result)\n",
    "\n",
    " "
   ]
  },
  {
   "cell_type": "code",
   "execution_count": 2,
   "id": "892c5e8d-9c40-4d4f-aa9b-7660e1acac20",
   "metadata": {},
   "outputs": [
    {
     "name": "stdout",
     "output_type": "stream",
     "text": [
      "Area of the rectangle = 156\n"
     ]
    }
   ],
   "source": [
    "#2. Write a program that calculates the area of a rectangle given its length and width.\n",
    "length = 12\n",
    "width = 13\n",
    "area = length * width\n",
    "print('Area of the rectangle =', area)\n"
   ]
  },
  {
   "cell_type": "code",
   "execution_count": 3,
   "id": "d699f2cd-d2ce-4bf3-8ace-5557eca4747a",
   "metadata": {},
   "outputs": [
    {
     "name": "stdin",
     "output_type": "stream",
     "text": [
      "Enter Fahrenheit value= 100\n"
     ]
    },
    {
     "name": "stdout",
     "output_type": "stream",
     "text": [
      "Fahrenheit to Celsius= 37.77777777777778\n"
     ]
    }
   ],
   "source": [
    "#3. Write a program that converts temperature from Fahrenheit to Celsius.\n",
    "F=int(input(\"Enter Fahrenheit value=\"))\n",
    "Celsius=(5/9)*(F-32)\n",
    "print(\"Fahrenheit to Celsius=\",Celsius)"
   ]
  },
  {
   "cell_type": "code",
   "execution_count": 4,
   "id": "7c2b4268-e2de-40e0-9180-e18228d60f3f",
   "metadata": {},
   "outputs": [
    {
     "name": "stdin",
     "output_type": "stream",
     "text": [
      "Enter any value= 4\n"
     ]
    },
    {
     "name": "stdout",
     "output_type": "stream",
     "text": [
      "The volume of a sphere= 268.082573106329\n"
     ]
    }
   ],
   "source": [
    "#4. Write a program that calculates the volume of a sphere given its radius.\n",
    "import math\n",
    "r=float(input(\"Enter any value=\"))\n",
    "volume=(4/3)*math.pi*(r**3)\n",
    "print(\"The volume of a sphere=\",volume)"
   ]
  },
  {
   "cell_type": "code",
   "execution_count": 5,
   "id": "528e277a-6a5b-4063-baeb-bb6d2e29bcb3",
   "metadata": {},
   "outputs": [
    {
     "name": "stdout",
     "output_type": "stream",
     "text": [
      "the average of three numbers= 5.0\n"
     ]
    }
   ],
   "source": [
    "#5. Write a program that finds the average of three numbers.\n",
    "a=5\n",
    "b=5\n",
    "c=5\n",
    "sum=a+b+c\n",
    "avg=sum/3\n",
    "print(\"the average of three numbers=\",avg)"
   ]
  },
  {
   "cell_type": "code",
   "execution_count": 6,
   "id": "94b8952d-9525-46fd-b53f-e1c65b9e322c",
   "metadata": {},
   "outputs": [
    {
     "name": "stdin",
     "output_type": "stream",
     "text": [
      "Enter any value= 12\n"
     ]
    },
    {
     "name": "stdout",
     "output_type": "stream",
     "text": [
      "Number is even\n"
     ]
    }
   ],
   "source": [
    "#If-elif-else\n",
    "\n",
    "#6. Write a program that determines if a number is even or odd.\n",
    "number=int(input(\"Enter any value=\"))\n",
    "if(number%2==0):\n",
    "    print(\"Number is even\")\n",
    "else:\n",
    "    print(\"Number is odd\")\n"
   ]
  },
  {
   "cell_type": "code",
   "execution_count": 7,
   "id": "d8aad9c6-2f65-4b39-aa3c-0622365d5fd4",
   "metadata": {},
   "outputs": [
    {
     "name": "stdout",
     "output_type": "stream",
     "text": [
      "6 is max\n"
     ]
    }
   ],
   "source": [
    "#7. Write a program that finds the maximum of three numbers.\n",
    "a=5\n",
    "b=6\n",
    "c=3\n",
    "if(a>b and a>c):\n",
    "    print(f'{a} is max')\n",
    "elif(b>a and b>c):\n",
    "    print(f'{b} is max')\n",
    "else:\n",
    "    print(f'{c} is max')"
   ]
  },
  {
   "cell_type": "code",
   "execution_count": 8,
   "id": "aafa6153-fb3c-4702-81e6-e503cb8fcdc9",
   "metadata": {},
   "outputs": [
    {
     "name": "stdin",
     "output_type": "stream",
     "text": [
      "Enter any value= 2028\n"
     ]
    },
    {
     "name": "stdout",
     "output_type": "stream",
     "text": [
      "2028 Is leap year\n"
     ]
    }
   ],
   "source": [
    "#8. Write a program that determines if a year is a leap year or not.\n",
    "\n",
    "year= int(input(\"Enter any value=\"))\n",
    "if(year%4==0 and year%100!=0) or (year % 400 ==0):\n",
    "          print(year,'Is leap year')\n",
    "else:\n",
    "          print(year,'Is not leap year')"
   ]
  },
  {
   "cell_type": "code",
   "execution_count": 9,
   "id": "d582b56e-a4db-4593-b3bb-bce615344b8a",
   "metadata": {},
   "outputs": [
    {
     "name": "stdin",
     "output_type": "stream",
     "text": [
      "Enter any value= 6\n"
     ]
    },
    {
     "name": "stdout",
     "output_type": "stream",
     "text": [
      "6 number is positive\n"
     ]
    }
   ],
   "source": [
    "#9. Write a program that determines if a number is positive, negative, or zero.\n",
    "\n",
    "N=int(input('Enter any value='))\n",
    "if(N==0):\n",
    "    print(f'{N} number is Zero')\n",
    "elif(N>0):\n",
    "    print(f'{N} number is positive')\n",
    "else:\n",
    "    print(f'{N} number is Negative')\n",
    "    "
   ]
  },
  {
   "cell_type": "code",
   "execution_count": 10,
   "id": "4a6b73a4-0419-4b7c-a33c-110571cce243",
   "metadata": {},
   "outputs": [
    {
     "name": "stdin",
     "output_type": "stream",
     "text": [
      "Enter the percentage:  70\n"
     ]
    },
    {
     "name": "stdout",
     "output_type": "stream",
     "text": [
      "The grade is: A\n"
     ]
    }
   ],
   "source": [
    "#10. Write a program that calculates the grade based on a given percentage.\n",
    "percentage = float(input(\"Enter the percentage: \"))\n",
    "\n",
    "if percentage > 100:\n",
    "    print(\"Not a valid mark\")\n",
    "elif percentage >= 80:\n",
    "    grade = 'A+'\n",
    "elif percentage >= 70:\n",
    "    grade = 'A'\n",
    "elif percentage >= 60:\n",
    "    grade = 'B'\n",
    "elif percentage >= 50:\n",
    "    grade = 'C'\n",
    "elif percentage >= 40:\n",
    "    grade = 'D'\n",
    "else:\n",
    "    grade = 'F'\n",
    "print(\"The grade is:\", grade)\n"
   ]
  },
  {
   "cell_type": "code",
   "execution_count": 11,
   "id": "c1b8ed6e-6cea-47ac-a4cf-362469f88e3d",
   "metadata": {},
   "outputs": [
    {
     "name": "stdin",
     "output_type": "stream",
     "text": [
      "Enter any number= 5\n"
     ]
    },
    {
     "name": "stdout",
     "output_type": "stream",
     "text": [
      "1 2 3 4 5 "
     ]
    }
   ],
   "source": [
    "#For Loop\n",
    "\n",
    "#11. Write a program that prints the first `n` natural numbers.\n",
    "n=int(input('Enter any number='))\n",
    "for i in range(1,n+1):\n",
    "    print(i,end=\" \")"
   ]
  },
  {
   "cell_type": "code",
   "execution_count": 12,
   "id": "5b23a4e0-6cce-4cfb-abe4-ff60365dc89c",
   "metadata": {},
   "outputs": [
    {
     "name": "stdin",
     "output_type": "stream",
     "text": [
      "Enter any number= 5\n"
     ]
    },
    {
     "name": "stdout",
     "output_type": "stream",
     "text": [
      "The factorial of  5  number= 120\n"
     ]
    }
   ],
   "source": [
    "#12. Write a program that calculates the factorial of a number.\n",
    "n=int(input('Enter any number='))\n",
    "fact=1\n",
    "for i in range(1,n+1):\n",
    "    fact*=i\n",
    "print ('The factorial of ',n,' number=',fact)"
   ]
  },
  {
   "cell_type": "code",
   "execution_count": 13,
   "id": "e4663065-7505-41f0-8f81-2308f4697b8d",
   "metadata": {},
   "outputs": [
    {
     "name": "stdin",
     "output_type": "stream",
     "text": [
      "Enter any number:  5\n"
     ]
    },
    {
     "name": "stdout",
     "output_type": "stream",
     "text": [
      "0 1 1 2 3 "
     ]
    }
   ],
   "source": [
    "#13. Write a program that generates a Fibonacci sequence of length `n`.\n",
    "n = int(input('Enter any number: '))\n",
    "first = 0\n",
    "second = 1\n",
    "if n <= 0:\n",
    "    print(\"Please enter a positive integer.\")\n",
    "elif n == 1:\n",
    "    print(first)\n",
    "else:\n",
    "    print(first, end=' ')\n",
    "    print(second, end=' ')\n",
    "    for i in range(2, n):\n",
    "        fibo = first + second\n",
    "        print(fibo, end=' ')\n",
    "        first = second\n",
    "        second = fibo\n",
    "\n"
   ]
  },
  {
   "cell_type": "code",
   "execution_count": 14,
   "id": "100e8582-2a31-490c-887a-0943c8f80791",
   "metadata": {},
   "outputs": [
    {
     "name": "stdin",
     "output_type": "stream",
     "text": [
      "Enter any number= 7\n"
     ]
    },
    {
     "name": "stdout",
     "output_type": "stream",
     "text": [
      "prime\n"
     ]
    }
   ],
   "source": [
    "#14. Write a program that checks if a given number is prime or not.\n",
    "\n",
    "N=int (input(\"Enter any number=\"))\n",
    "count=0\n",
    "for i in range(2,N):\n",
    "    if(N%i==0):\n",
    "        count+=1\n",
    "        break\n",
    "if(count==0):\n",
    "    print(\"prime\")\n",
    "else:\n",
    "    print(\"Not prime\")\n",
    "    \n",
    "        "
   ]
  },
  {
   "cell_type": "code",
   "execution_count": 15,
   "id": "bfc80e34-e8fe-47e4-a02c-c108bb3ba61e",
   "metadata": {},
   "outputs": [
    {
     "name": "stdin",
     "output_type": "stream",
     "text": [
      "Enter any number= 10\n"
     ]
    },
    {
     "name": "stdout",
     "output_type": "stream",
     "text": [
      "10 X 1 = 10\n",
      "10 X 2 = 20\n",
      "10 X 3 = 30\n",
      "10 X 4 = 40\n",
      "10 X 5 = 50\n",
      "10 X 6 = 60\n",
      "10 X 7 = 70\n",
      "10 X 8 = 80\n",
      "10 X 9 = 90\n",
      "10 X 10 = 100\n"
     ]
    }
   ],
   "source": [
    "#15. Write a program that prints the multiplication table of a given number.\n",
    "\n",
    "N=int (input(\"Enter any number=\"))\n",
    "for i in range (1,11):\n",
    "    print(f'{N} X {i} = {N*i}')"
   ]
  },
  {
   "cell_type": "code",
   "execution_count": 16,
   "id": "bd516d10-91d4-49ac-b789-9009b6252d92",
   "metadata": {},
   "outputs": [
    {
     "name": "stdin",
     "output_type": "stream",
     "text": [
      "Enter a number:  10\n"
     ]
    },
    {
     "name": "stdout",
     "output_type": "stream",
     "text": [
      "The sum of all even numbers between 1 and 10 is: 30\n"
     ]
    }
   ],
   "source": [
    "#While Loop\n",
    "\n",
    "#16. Write a program that finds the sum of all even numbers between 1 and `n`.\n",
    "\n",
    "n = int(input(\"Enter a number: \"))\n",
    "sum_even = 0\n",
    "i = 2\n",
    "while i <= n:\n",
    "    sum_even += i\n",
    "    i += 2  \n",
    "print(f\"The sum of all even numbers between 1 and {n} is: {sum_even}\")\n",
    "\n",
    "        \n"
   ]
  },
  {
   "cell_type": "code",
   "execution_count": 17,
   "id": "89f984b8-7b36-4d0e-9e06-ca75283f51fd",
   "metadata": {},
   "outputs": [
    {
     "name": "stdin",
     "output_type": "stream",
     "text": [
      "Enter a number:  123\n"
     ]
    },
    {
     "name": "stdout",
     "output_type": "stream",
     "text": [
      "Reversed number = 321\n"
     ]
    }
   ],
   "source": [
    "#17. Write a program that reverses a given number.\n",
    "n = int(input(\"Enter a number: \"))\n",
    "r = 0\n",
    "temp = n\n",
    "\n",
    "while temp != 0:\n",
    "    digit = temp % 10\n",
    "    r = r * 10 + digit\n",
    "    temp //= 10  \n",
    "\n",
    "print(\"Reversed number =\", r)\n",
    "\n",
    "    "
   ]
  },
  {
   "cell_type": "code",
   "execution_count": 18,
   "id": "7d35474e-8136-4b17-b05e-542a7cee9ae3",
   "metadata": {},
   "outputs": [
    {
     "name": "stdin",
     "output_type": "stream",
     "text": [
      "Enter a string:  level\n"
     ]
    },
    {
     "name": "stdout",
     "output_type": "stream",
     "text": [
      "Palindrome\n"
     ]
    }
   ],
   "source": [
    "#18. Write a program that checks if a given string, is a palindrome.\n",
    "string = input(\"Enter a string: \")\n",
    "reversed_string = \"\"\n",
    "index = len(string) - 1\n",
    "\n",
    "while index >= 0:\n",
    "    reversed_string += string[index]\n",
    "    index -= 1\n",
    "\n",
    "if string == reversed_string:\n",
    "    print(\"Palindrome\")\n",
    "else:\n",
    "    print(\"Not a palindrome\")\n",
    "\n"
   ]
  },
  {
   "cell_type": "code",
   "execution_count": 19,
   "id": "91ef5acf-1d82-4a36-9d92-c14db7a82690",
   "metadata": {},
   "outputs": [
    {
     "name": "stdin",
     "output_type": "stream",
     "text": [
      "Guess the number (between 1 and 100):  50\n"
     ]
    },
    {
     "name": "stdout",
     "output_type": "stream",
     "text": [
      "Too low! Try again.\n"
     ]
    },
    {
     "name": "stdin",
     "output_type": "stream",
     "text": [
      "Guess the number (between 1 and 100):  70\n"
     ]
    },
    {
     "name": "stdout",
     "output_type": "stream",
     "text": [
      "Too low! Try again.\n"
     ]
    },
    {
     "name": "stdin",
     "output_type": "stream",
     "text": [
      "Guess the number (between 1 and 100):  80\n"
     ]
    },
    {
     "name": "stdout",
     "output_type": "stream",
     "text": [
      "Too low! Try again.\n"
     ]
    },
    {
     "name": "stdin",
     "output_type": "stream",
     "text": [
      "Guess the number (between 1 and 100):  90\n"
     ]
    },
    {
     "name": "stdout",
     "output_type": "stream",
     "text": [
      "Too low! Try again.\n"
     ]
    },
    {
     "name": "stdin",
     "output_type": "stream",
     "text": [
      "Guess the number (between 1 and 100):  95\n"
     ]
    },
    {
     "name": "stdout",
     "output_type": "stream",
     "text": [
      "Too high! Try again.\n"
     ]
    },
    {
     "name": "stdin",
     "output_type": "stream",
     "text": [
      "Guess the number (between 1 and 100):  91\n"
     ]
    },
    {
     "name": "stdout",
     "output_type": "stream",
     "text": [
      "Too low! Try again.\n"
     ]
    },
    {
     "name": "stdin",
     "output_type": "stream",
     "text": [
      "Guess the number (between 1 and 100):  92\n"
     ]
    },
    {
     "name": "stdout",
     "output_type": "stream",
     "text": [
      "Too low! Try again.\n"
     ]
    },
    {
     "name": "stdin",
     "output_type": "stream",
     "text": [
      "Guess the number (between 1 and 100):  93\n"
     ]
    },
    {
     "name": "stdout",
     "output_type": "stream",
     "text": [
      "Congratulations! You guessed it right!\n"
     ]
    }
   ],
   "source": [
    "#19. Write a program that generates a random number and allows the user to guess it.\n",
    "import random\n",
    "\n",
    "random_number = random.randint(1, 100)\n",
    "\n",
    "while True:\n",
    "    guess = int(input(\"Guess the number (between 1 and 100): \"))\n",
    "    \n",
    "    if guess == random_number:\n",
    "        print(\"Congratulations! You guessed it right!\")\n",
    "        break\n",
    "    elif guess < random_number:\n",
    "        print(\"Too low! Try again.\")\n",
    "    else:\n",
    "        print(\"Too high! Try again.\")\n"
   ]
  },
  {
   "cell_type": "code",
   "execution_count": 20,
   "id": "4d73e355-bd89-4d39-88f7-ae8acbaf1684",
   "metadata": {},
   "outputs": [
    {
     "name": "stdin",
     "output_type": "stream",
     "text": [
      "Enter the first number:  72\n",
      "Enter the second number:  7\n"
     ]
    },
    {
     "name": "stdout",
     "output_type": "stream",
     "text": [
      "The GCD is 1.\n"
     ]
    }
   ],
   "source": [
    "#20. Write a program that finds the greatest common divisor (GCD) of two numbers.\n",
    "# Get input from the user\n",
    "num1 = int(input(\"Enter the first number: \"))\n",
    "num2 = int(input(\"Enter the second number: \"))\n",
    "\n",
    "# Ensure num1 is greater than num2 for the algorithm\n",
    "if num1 < num2:\n",
    "    num1, num2 = num2, num1\n",
    "\n",
    "# Compute GCD using the Euclidean algorithm\n",
    "while num2 != 0:\n",
    "    num1, num2 = num2, num1 % num2\n",
    "\n",
    "# Print the result\n",
    "print(f\"The GCD is {num1}.\")\n",
    "\n"
   ]
  },
  {
   "cell_type": "code",
   "execution_count": null,
   "id": "d81d2f01-a33d-4cc8-854a-77e450863d20",
   "metadata": {},
   "outputs": [],
   "source": []
  }
 ],
 "metadata": {
  "kernelspec": {
   "display_name": "Python 3 (ipykernel)",
   "language": "python",
   "name": "python3"
  },
  "language_info": {
   "codemirror_mode": {
    "name": "ipython",
    "version": 3
   },
   "file_extension": ".py",
   "mimetype": "text/x-python",
   "name": "python",
   "nbconvert_exporter": "python",
   "pygments_lexer": "ipython3",
   "version": "3.12.3"
  }
 },
 "nbformat": 4,
 "nbformat_minor": 5
}
