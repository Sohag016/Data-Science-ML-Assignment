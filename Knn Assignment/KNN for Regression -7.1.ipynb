{
 "cells": [
  {
   "cell_type": "code",
   "execution_count": 1,
   "id": "d6878266-7733-4511-abe8-f49053274165",
   "metadata": {},
   "outputs": [],
   "source": [
    "import numpy as np\n",
    "import pandas as pd\n",
    "from sklearn.neighbors import KNeighborsRegressor\n",
    "from sklearn.linear_model import LinearRegression\n",
    "import matplotlib.pyplot as plt\n"
   ]
  },
  {
   "cell_type": "code",
   "execution_count": 2,
   "id": "a04bd3da-2837-4511-a14a-d704992fb027",
   "metadata": {},
   "outputs": [
    {
     "name": "stdout",
     "output_type": "stream",
     "text": [
      "   Age  Income\n",
      "0   21      60\n",
      "1   20      55\n",
      "2   22      60\n",
      "3   22      61\n",
      "4   23      65\n",
      "5   21      62\n",
      "6   25      65\n",
      "7   30      70\n",
      "8   31      68\n"
     ]
    }
   ],
   "source": [
    "# Create a dataset with the given values\n",
    "data = {'Age': [21, 20, 22, 22, 23, 21, 25, 30, 31],\n",
    "        'Income': [60, 55, 60, 61, 65, 62, 65, 70, 68]}\n",
    "\n",
    "df = pd.DataFrame(data)\n",
    "print(df)\n"
   ]
  },
  {
   "cell_type": "markdown",
   "id": "713611bc-77b5-49f7-a697-01045a630a07",
   "metadata": {},
   "source": [
    "## Task-01 : Your objective is to implement the K-Nearest Neighbors (KNN) algorithm with k=3. Use this algorithm to predict the income value, with the given input value X=22."
   ]
  },
  {
   "cell_type": "code",
   "execution_count": 3,
   "id": "cf4e7971-522e-48fc-a94d-dff7db3b17ae",
   "metadata": {},
   "outputs": [
    {
     "name": "stdout",
     "output_type": "stream",
     "text": [
      "Predicted Income for age 22: 60.333333333333336\n"
     ]
    }
   ],
   "source": [
    "# Feature (X) and Target (y)\n",
    "X = df[['Age']]  # Feature should be a 2D array\n",
    "Y = df['Income']  # Target\n",
    "\n",
    "# Initialize KNN regressor with k=3\n",
    "knn = KNeighborsRegressor(n_neighbors=3)\n",
    "# Train the model\n",
    "knn.fit(X,Y)\n",
    "\n",
    "# Prediction with new data (same structure as the training data)\n",
    "new_data = pd.DataFrame({'Age': [22]})  # Wrap the input in a DataFrame\n",
    "predicted_income = knn.predict(new_data)\n",
    "\n",
    "print(f'Predicted Income for age 22: {predicted_income[0]}')"
   ]
  },
  {
   "cell_type": "markdown",
   "id": "424e653e-21a1-46e3-aa7a-a898849a8c57",
   "metadata": {},
   "source": [
    "## Task-2 Regression Results"
   ]
  },
  {
   "cell_type": "code",
   "execution_count": 4,
   "id": "4bf0797f-01d4-48d7-ac55-3a48a15d3714",
   "metadata": {},
   "outputs": [
    {
     "name": "stdout",
     "output_type": "stream",
     "text": [
      "Predicted Income for age 22(Linear Regression): 60.97068965517241\n"
     ]
    }
   ],
   "source": [
    "linear_reg = LinearRegression()\n",
    "linear_reg.fit(X,Y)  # Train the linear regression model\n",
    "predicted_income_lr = linear_reg.predict(pd.DataFrame({'Age': [22]}))\n",
    "print(f'Predicted Income for age 22(Linear Regression): {predicted_income_lr[0]}')"
   ]
  },
  {
   "cell_type": "markdown",
   "id": "430904c0-f9d8-4f17-a03f-f45743cbb556",
   "metadata": {},
   "source": [
    "## Final Task: Generated an excel"
   ]
  },
  {
   "cell_type": "code",
   "execution_count": 5,
   "id": "482ec819-a518-45a4-9f2b-69cf2aeab2a1",
   "metadata": {},
   "outputs": [
    {
     "data": {
      "text/html": [
       "<div>\n",
       "<style scoped>\n",
       "    .dataframe tbody tr th:only-of-type {\n",
       "        vertical-align: middle;\n",
       "    }\n",
       "\n",
       "    .dataframe tbody tr th {\n",
       "        vertical-align: top;\n",
       "    }\n",
       "\n",
       "    .dataframe thead th {\n",
       "        text-align: right;\n",
       "    }\n",
       "</style>\n",
       "<table border=\"1\" class=\"dataframe\">\n",
       "  <thead>\n",
       "    <tr style=\"text-align: right;\">\n",
       "      <th></th>\n",
       "      <th>Age</th>\n",
       "      <th>Income(k)</th>\n",
       "    </tr>\n",
       "  </thead>\n",
       "  <tbody>\n",
       "    <tr>\n",
       "      <th>0</th>\n",
       "      <td>21</td>\n",
       "      <td>60</td>\n",
       "    </tr>\n",
       "    <tr>\n",
       "      <th>1</th>\n",
       "      <td>20</td>\n",
       "      <td>55</td>\n",
       "    </tr>\n",
       "    <tr>\n",
       "      <th>2</th>\n",
       "      <td>22</td>\n",
       "      <td>60</td>\n",
       "    </tr>\n",
       "    <tr>\n",
       "      <th>3</th>\n",
       "      <td>22</td>\n",
       "      <td>61</td>\n",
       "    </tr>\n",
       "    <tr>\n",
       "      <th>4</th>\n",
       "      <td>23</td>\n",
       "      <td>65</td>\n",
       "    </tr>\n",
       "  </tbody>\n",
       "</table>\n",
       "</div>"
      ],
      "text/plain": [
       "   Age    Income(k)\n",
       "0    21          60\n",
       "1    20          55\n",
       "2    22          60\n",
       "3    22          61\n",
       "4    23          65"
      ]
     },
     "execution_count": 5,
     "metadata": {},
     "output_type": "execute_result"
    }
   ],
   "source": [
    "df = pd.read_excel('Dataset-1.xlsx')\n",
    "df.head()"
   ]
  },
  {
   "cell_type": "code",
   "execution_count": 6,
   "id": "9ee5d625-a22b-4b7d-b850-fac2c7ceb9b3",
   "metadata": {},
   "outputs": [
    {
     "data": {
      "image/png": "[encoded data removed]",
      "text/plain": [
       "<Figure size 640x480 with 1 Axes>"
      ]
     },
     "metadata": {},
     "output_type": "display_data"
    }
   ],
   "source": [
    "#plot the data point\n",
    "plt.scatter(X,Y, color='red',label ='orginal data')\n",
    "\n",
    "# Plot the KNN prediction for age=22\n",
    "plt.scatter(22, predicted_income, color='green', label='KNN Predicted', zorder=5)\n",
    "\n",
    "# Plot the Linear Regression line\n",
    "plt.plot(X, linear_reg.predict(X), color='red', label='Linear Regression Line')\n",
    "\n",
    "plt.xlabel('Age')\n",
    "plt.ylabel('Income')\n",
    "plt.legend()\n",
    "plt.show()            \n",
    "            "
   ]
  },
  {
   "cell_type": "code",
   "execution_count": null,
   "id": "a836fdb9-fbba-488f-8bc8-647fc3612897",
   "metadata": {},
   "outputs": [],
   "source": []
  }
 ],
 "metadata": {
  "kernelspec": {
   "display_name": "Python 3 (ipykernel)",
   "language": "python",
   "name": "python3"
  },
  "language_info": {
   "codemirror_mode": {
    "name": "ipython",
    "version": 3
   },
   "file_extension": ".py",
   "mimetype": "text/x-python",
   "name": "python",
   "nbconvert_exporter": "python",
   "pygments_lexer": "ipython3",
   "version": "3.12.3"
  }
 },
 "nbformat": 4,
 "nbformat_minor": 5
}
