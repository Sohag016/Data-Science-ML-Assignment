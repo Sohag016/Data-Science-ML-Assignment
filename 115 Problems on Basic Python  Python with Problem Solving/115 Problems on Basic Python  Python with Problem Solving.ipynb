{
 "cells": [
  {
   "cell_type": "markdown",
   "id": "278abdcd-247a-44d4-b7c3-6939f401945e",
   "metadata": {},
   "source": [
    "# Basic Problems:"
   ]
  },
  {
   "cell_type": "markdown",
   "id": "2dd78473-9afb-4aee-9b09-42a1bc272ac6",
   "metadata": {},
   "source": [
    "## 1. Sum of Two Numbers:"
   ]
  },
  {
   "cell_type": "code",
   "execution_count": null,
   "id": "f01f2280-e914-4d29-b949-7355d7ef0cca",
   "metadata": {},
   "outputs": [],
   "source": [
    "a = int(input(\"Enter first number: \"))\n",
    "b = int(input(\"Enter second number: \"))\n",
    "print(\"Sum:\", a + b)\n"
   ]
  },
  {
   "cell_type": "markdown",
   "id": "2362cf87-64e4-439b-a482-fefc74ec7bb2",
   "metadata": {},
   "source": [
    "## 2. Area of a Circle:"
   ]
  },
  {
   "cell_type": "code",
   "execution_count": null,
   "id": "5513dc83-27e4-4363-9e8b-3be414fb6776",
   "metadata": {},
   "outputs": [],
   "source": [
    "import math\n",
    "\n",
    "radius = float(input(\"Enter the radius: \"))\n",
    "area = math.pi * radius ** 2\n",
    "print(\"Area of the circle:\", area)\n"
   ]
  },
  {
   "cell_type": "markdown",
   "id": "81cd2f65-3986-4342-8698-66469d11af8d",
   "metadata": {},
   "source": [
    "## 3. Check if Even or Odd:"
   ]
  },
  {
   "cell_type": "code",
   "execution_count": null,
   "id": "cd45866c-786d-43d7-9b85-63222d8163c4",
   "metadata": {},
   "outputs": [],
   "source": [
    "num = int(input(\"Enter a number: \"))\n",
    "if num % 2 == 0:\n",
    "    print(f\"{num} is even.\")\n",
    "else:\n",
    "    print(f\"{num} is odd.\")\n"
   ]
  },
  {
   "cell_type": "markdown",
   "id": "64218daf-894c-4622-b1f4-42abb110c680",
   "metadata": {},
   "source": [
    "## 4. Find Maximum of Three Numbers:"
   ]
  },
  {
   "cell_type": "code",
   "execution_count": null,
   "id": "8cc7dedf-9840-488a-a562-18273273183f",
   "metadata": {},
   "outputs": [],
   "source": [
    "a = int(input(\"Enter first number: \"))\n",
    "b = int(input(\"Enter second number: \"))\n",
    "c = int(input(\"Enter third number: \"))\n",
    "print(\"Maximum:\", max(a, b, c))\n"
   ]
  },
  {
   "cell_type": "markdown",
   "id": "f986ab85-5573-43ac-af54-2b0ee56bb6a7",
   "metadata": {},
   "source": [
    "## 5. Check if a Year is a Leap Year:"
   ]
  },
  {
   "cell_type": "code",
   "execution_count": null,
   "id": "079812f4-2520-41df-98f8-5732c075bf85",
   "metadata": {},
   "outputs": [],
   "source": [
    "year = int(input(\"Enter a year: \"))\n",
    "if (year % 4 == 0 and year % 100 != 0) or (year % 400 == 0):\n",
    "    print(f\"{year} is a leap year.\")\n",
    "else:\n",
    "    print(f\"{year} is not a leap year.\")\n"
   ]
  },
  {
   "cell_type": "markdown",
   "id": "5f0b928b-8546-47e0-ba53-ad1b450351f6",
   "metadata": {},
   "source": [
    "## 6. Simple Interest Calculation:"
   ]
  },
  {
   "cell_type": "code",
   "execution_count": null,
   "id": "eaef11a2-2979-40b6-8cf4-5c3eb4303871",
   "metadata": {},
   "outputs": [],
   "source": [
    "principal = float(input(\"Enter the principal amount: \"))\n",
    "rate = float(input(\"Enter the interest rate: \"))\n",
    "time = float(input(\"Enter the time (in years): \"))\n",
    "\n",
    "interest = (principal * rate * time) / 100\n",
    "print(\"Simple Interest:\", interest)\n"
   ]
  },
  {
   "cell_type": "markdown",
   "id": "952a48ae-f3df-419e-8b2c-ea3ea33fc57a",
   "metadata": {},
   "source": [
    "## 7. Check if a Number is Positive, Negative, or Zero:"
   ]
  },
  {
   "cell_type": "code",
   "execution_count": null,
   "id": "b099b630-38cb-421b-b619-47447a7e874d",
   "metadata": {},
   "outputs": [],
   "source": [
    "num = float(input(\"Enter a number: \"))\n",
    "\n",
    "if num > 0:\n",
    "    print(f\"{num} is positive.\")\n",
    "elif num < 0:\n",
    "    print(f\"{num} is negative.\")\n",
    "else:\n",
    "    print(f\"{num} is zero.\")\n"
   ]
  },
  {
   "cell_type": "markdown",
   "id": "00dc590a-3a7a-4bb4-bcef-8e547abc10b6",
   "metadata": {},
   "source": [
    "## 8. Find the Factorial of a Number:"
   ]
  },
  {
   "cell_type": "code",
   "execution_count": null,
   "id": "6bbbfab0-850e-4fb2-8abf-11904d346f0a",
   "metadata": {},
   "outputs": [],
   "source": [
    "def factorial(n):\n",
    "    if n == 0 or n == 1:\n",
    "        return 1\n",
    "    else:\n",
    "        return n * factorial(n - 1)\n",
    "\n",
    "num = int(input(\"Enter a number: \"))\n",
    "print(\"Factorial:\", factorial(num))\n"
   ]
  },
  {
   "cell_type": "markdown",
   "id": "6ab94ac1-d9d8-490e-b656-1c0df6a07d07",
   "metadata": {},
   "source": [
    "## 9. Check if a Number is Prime:"
   ]
  },
  {
   "cell_type": "code",
   "execution_count": null,
   "id": "057870bc-467c-4c3a-b43a-c3ad12a72a37",
   "metadata": {},
   "outputs": [],
   "source": [
    "def is_prime(n):\n",
    "    if n <= 1:\n",
    "        return False\n",
    "    for i in range(2, int(n ** 0.5) + 1):\n",
    "        if n % i == 0:\n",
    "            return False\n",
    "    return True\n",
    "\n",
    "num = int(input(\"Enter a number: \"))\n",
    "if is_prime(num):\n",
    "    print(f\"{num} is a prime number.\")\n",
    "else:\n",
    "    print(f\"{num} is not a prime number.\")\n"
   ]
  },
  {
   "cell_type": "markdown",
   "id": "dfcb6fc6-5c5d-46aa-8e03-4b8eca4552da",
   "metadata": {},
   "source": [
    "## 10. Generate Fibonacci Series:"
   ]
  },
  {
   "cell_type": "code",
   "execution_count": null,
   "id": "d315d5b8-3497-46ae-be7c-93383346aebf",
   "metadata": {},
   "outputs": [],
   "source": [
    "def fibonacci(n):\n",
    "    fib_series = [0, 1]\n",
    "    while len(fib_series) < n:\n",
    "        fib_series.append(fib_series[-1] + fib_series[-2])\n",
    "    return fib_series[:n]\n",
    "\n",
    "num = int(input(\"Enter the number of Fibonacci terms: \"))\n",
    "print(\"Fibonacci series:\", fibonacci(num))\n"
   ]
  },
  {
   "cell_type": "markdown",
   "id": "dfe6dfe2-6b18-417a-aa54-7d0dcf11cb70",
   "metadata": {},
   "source": [
    "# Python Conditional Statements:"
   ]
  },
  {
   "cell_type": "markdown",
   "id": "4afcfd02-f4af-4fc6-8722-42bf98c91b39",
   "metadata": {},
   "source": [
    "## 11. Sum of Natural Numbers:"
   ]
  },
  {
   "cell_type": "code",
   "execution_count": null,
   "id": "8a1434ac-10e9-42b5-af3e-599001d9cd81",
   "metadata": {},
   "outputs": [],
   "source": [
    "num = int(input(\"Enter a number: \"))\n",
    "natural_sum = sum(range(1, num + 1))\n",
    "print(\"Sum of natural numbers:\", natural_sum)\n"
   ]
  },
  {
   "cell_type": "markdown",
   "id": "54009862-4650-42e6-bdd8-a314941850da",
   "metadata": {},
   "source": [
    "## 12. Reverse a String:"
   ]
  },
  {
   "cell_type": "code",
   "execution_count": null,
   "id": "ef070a35-128c-45ba-8b6f-cf550a7d0cfd",
   "metadata": {},
   "outputs": [],
   "source": [
    "string = input(\"Enter a string: \")\n",
    "reversed_string = string[::-1]\n",
    "print(\"Reversed string:\", reversed_string)\n"
   ]
  },
  {
   "cell_type": "markdown",
   "id": "80855ad3-3eb7-4b11-9702-d05d60c02023",
   "metadata": {},
   "source": [
    "## 13. Find the Largest Element in a List:"
   ]
  },
  {
   "cell_type": "code",
   "execution_count": null,
   "id": "4491d569-ac9d-4c3d-810e-147f75224ca3",
   "metadata": {},
   "outputs": [],
   "source": [
    "lst = list(map(int, input(\"Enter a list of numbers separated by spaces: \").split()))\n",
    "print(\"Largest element:\", max(lst))\n"
   ]
  },
  {
   "cell_type": "markdown",
   "id": "0b216cdc-7f65-4f1d-9360-2df7a4b4c6d8",
   "metadata": {},
   "source": [
    "## 14. Find the Second Largest Element in a List:"
   ]
  },
  {
   "cell_type": "code",
   "execution_count": null,
   "id": "eb14287b-7d06-4862-9e7f-72f2df5b8ead",
   "metadata": {},
   "outputs": [],
   "source": [
    "lst = list(map(int, input(\"Enter a list of numbers separated by spaces: \").split()))\n",
    "unique_lst = list(set(lst))  # Remove duplicates\n",
    "unique_lst.sort()\n",
    "print(\"Second largest element:\", unique_lst[-2])\n"
   ]
  },
  {
   "cell_type": "markdown",
   "id": "16593497-7dd1-4410-8e57-b9f9304644a5",
   "metadata": {},
   "source": [
    "## 15. Check if a String is a Palindrome:"
   ]
  },
  {
   "cell_type": "code",
   "execution_count": null,
   "id": "69ad5ab4-1965-4c21-a910-3a6f328a2f63",
   "metadata": {},
   "outputs": [],
   "source": [
    "string = input(\"Enter a string: \")\n",
    "\n",
    "if string == string[::-1]:\n",
    "    print(f\"{string} is a palindrome.\")\n",
    "else:\n",
    "    print(f\"{string} is not a palindrome.\")\n"
   ]
  },
  {
   "cell_type": "markdown",
   "id": "1fdc749c-c47c-4c7a-ba75-c8f404c6036c",
   "metadata": {},
   "source": [
    "## 16. Sum of Digits of a Number:"
   ]
  },
  {
   "cell_type": "code",
   "execution_count": null,
   "id": "3add3809-4fe1-4a6c-a0dd-1c3748a1539f",
   "metadata": {},
   "outputs": [],
   "source": [
    "num = int(input(\"Enter a number: \"))\n",
    "digit_sum = sum(int(digit) for digit in str(num))\n",
    "print(\"Sum of digits:\", digit_sum)\n"
   ]
  },
  {
   "cell_type": "markdown",
   "id": "5552ee01-3260-4f37-a6df-1f4098fc33e4",
   "metadata": {},
   "source": [
    "## 17. Swap Two Numbers Without a Temporary Variable:"
   ]
  },
  {
   "cell_type": "code",
   "execution_count": null,
   "id": "bc57f53a-b818-490b-9e6c-e9b23e8d838b",
   "metadata": {},
   "outputs": [],
   "source": [
    "a = int(input(\"Enter first number: \"))\n",
    "b = int(input(\"Enter second number: \"))\n",
    "\n",
    "a, b = b, a\n",
    "\n",
    "print(\"After swapping: a =\", a, \", b =\", b)\n"
   ]
  },
  {
   "cell_type": "markdown",
   "id": "2882c9e7-11c3-4eec-8c2a-5aa013295719",
   "metadata": {},
   "source": [
    "## 18. Check if a Number is Armstrong:"
   ]
  },
  {
   "cell_type": "code",
   "execution_count": null,
   "id": "7bbbc158-1aff-4d9b-8e14-d8a7d447865b",
   "metadata": {},
   "outputs": [],
   "source": [
    "def is_armstrong(num):\n",
    "    digits = [int(digit) for digit in str(num)]\n",
    "    power = len(digits)\n",
    "    armstrong_sum = sum([digit**power for digit in digits])\n",
    "    return armstrong_sum == num\n",
    "\n",
    "num = int(input(\"Enter a number: \"))\n",
    "if is_armstrong(num):\n",
    "    print(f\"{num} is an Armstrong number.\")\n",
    "else:\n",
    "    print(f\"{num} is not an Armstrong number.\")\n"
   ]
  },
  {
   "cell_type": "markdown",
   "id": "6f7bb592-e223-4db2-8272-261a0d12cbd1",
   "metadata": {},
   "source": [
    "## 19. Check if Two Strings are Anagrams:"
   ]
  },
  {
   "cell_type": "code",
   "execution_count": null,
   "id": "5a455af3-afd9-47b9-9c87-500d89284c49",
   "metadata": {},
   "outputs": [],
   "source": [
    "str1 = input(\"Enter the first string: \")\n",
    "str2 = input(\"Enter the second string: \")\n",
    "\n",
    "if sorted(str1) == sorted(str2):\n",
    "    print(f\"{str1} and {str2} are anagrams.\")\n",
    "else:\n",
    "    print(f\"{str1} and {str2} are not anagrams.\")\n"
   ]
  },
  {
   "cell_type": "markdown",
   "id": "b41227fe-d16b-421f-be4e-7bacfe6bef41",
   "metadata": {},
   "source": [
    "# For & While Loops:"
   ]
  },
  {
   "cell_type": "markdown",
   "id": "858e005d-4733-4a5a-8fba-59273cc659fc",
   "metadata": {},
   "source": [
    "## 20. Factorial Using Iteration:"
   ]
  },
  {
   "cell_type": "code",
   "execution_count": null,
   "id": "dfe9ab71-bc97-45a8-88a1-9eadec49b4a9",
   "metadata": {},
   "outputs": [],
   "source": [
    "num = int(input(\"Enter a number: \"))\n",
    "factorial = 1\n",
    "\n",
    "for i in range(1, num + 1):\n",
    "    factorial *= i\n",
    "\n",
    "print(\"Factorial:\", factorial)\n"
   ]
  },
  {
   "cell_type": "markdown",
   "id": "71933f64-dd73-4589-944f-5db71e426c1b",
   "metadata": {},
   "source": [
    "## 21. Check if a Number is a Perfect Number:"
   ]
  },
  {
   "cell_type": "code",
   "execution_count": null,
   "id": "5fe1e6ea-e2d5-46a1-a22e-bd5d4417e987",
   "metadata": {},
   "outputs": [],
   "source": [
    "def is_perfect(num):\n",
    "    divisors = [i for i in range(1, num) if num % i == 0]\n",
    "    return sum(divisors) == num\n",
    "\n",
    "num = int(input(\"Enter a number: \"))\n",
    "if is_perfect(num):\n",
    "    print(f\"{num} is a perfect number.\")\n",
    "else:\n",
    "    print(f\"{num} is not a perfect number.\")\n"
   ]
  },
  {
   "cell_type": "markdown",
   "id": "be455922-8938-4002-a071-370857c86300",
   "metadata": {},
   "source": [
    "## 22. Generate Multiplication Table of a Number:"
   ]
  },
  {
   "cell_type": "code",
   "execution_count": null,
   "id": "c6832bf4-1ced-4ab5-a49a-02335f5e01e5",
   "metadata": {},
   "outputs": [],
   "source": [
    "num = int(input(\"Enter a number: \"))\n",
    "\n",
    "for i in range(1, 11):\n",
    "    print(f\"{num} x {i} = {num * i}\")\n"
   ]
  },
  {
   "cell_type": "markdown",
   "id": "7d9cc7b7-e733-4325-8964-63f8731c7591",
   "metadata": {},
   "source": [
    "## 23. Convert Celsius to Fahrenheit:"
   ]
  },
  {
   "cell_type": "code",
   "execution_count": null,
   "id": "9dc20a93-c5bc-451e-97e5-c43b12b652c6",
   "metadata": {},
   "outputs": [],
   "source": [
    "celsius = float(input(\"Enter temperature in Celsius: \"))\n",
    "fahrenheit = (celsius * 9/5) + 32\n",
    "print(\"Temperature in Fahrenheit:\", fahrenheit)\n"
   ]
  },
  {
   "cell_type": "markdown",
   "id": "96d588dd-1041-4358-8cc0-bd38df4529b3",
   "metadata": {},
   "source": [
    "## 24. Check if a Number is Strong (Factorial Sum of Digits):"
   ]
  },
  {
   "cell_type": "code",
   "execution_count": null,
   "id": "c71e33f5-a022-403f-9df0-38cfb84df337",
   "metadata": {},
   "outputs": [],
   "source": [
    "def factorial(n):\n",
    "    if n == 0 or n == 1:\n",
    "        return 1\n",
    "    return n * factorial(n - 1)\n",
    "\n",
    "def is_strong(num):\n",
    "    digits = [int(digit) for digit in str(num)]\n",
    "    return sum([factorial(digit) for digit in digits]) == num\n",
    "\n",
    "num = int(input(\"Enter a number: \"))\n",
    "if is_strong(num):\n",
    "    print(f\"{num} is a strong number.\")\n",
    "else:\n",
    "    print(f\"{num} is not a strong number.\")\n"
   ]
  },
  {
   "cell_type": "markdown",
   "id": "8cd3e01c-cbf3-431e-834c-f41ae5edfcba",
   "metadata": {},
   "source": [
    "## 25. Find LCM of Two Numbers:"
   ]
  },
  {
   "cell_type": "code",
   "execution_count": null,
   "id": "92646451-e2cf-452e-be96-d0fe89d118f1",
   "metadata": {},
   "outputs": [],
   "source": [
    "def gcd(a, b):\n",
    "    while b:\n",
    "        a, b = b, a % b\n",
    "    return a\n",
    "\n",
    "def lcm(a, b):\n",
    "    return (a * b) // gcd(a, b)\n",
    "\n",
    "num1 = int(input(\"Enter first number: \"))\n",
    "num2 = int(input(\"Enter second number: \"))\n",
    "print(\"LCM:\", lcm(num1, num2))\n"
   ]
  },
  {
   "cell_type": "markdown",
   "id": "1e96f6ea-ce78-4c32-ae02-3fde48388b22",
   "metadata": {},
   "source": [
    "## 26. Find GCD of Two Numbers:"
   ]
  },
  {
   "cell_type": "code",
   "execution_count": null,
   "id": "b71e668c-30b1-41dd-8438-0790d2d7c717",
   "metadata": {},
   "outputs": [],
   "source": [
    "def gcd(a, b):\n",
    "    while b:\n",
    "        a, b = b, a % b\n",
    "    return a\n",
    "\n",
    "num1 = int(input(\"Enter first number: \"))\n",
    "num2 = int(input(\"Enter second number: \"))\n",
    "print(\"GCD:\", gcd(num1, num2))\n"
   ]
  },
  {
   "cell_type": "markdown",
   "id": "d93f81cb-484a-4ef8-a9b0-937c4870c13c",
   "metadata": {},
   "source": [
    "## 27. Check if a String is a Substring of Another String:"
   ]
  },
  {
   "cell_type": "code",
   "execution_count": null,
   "id": "0501d1a4-da65-4360-8254-387b2978f159",
   "metadata": {},
   "outputs": [],
   "source": [
    "str1 = input(\"Enter the first string: \")\n",
    "str2 = input(\"Enter the second string: \")\n",
    "\n",
    "if str2 in str1:\n",
    "    print(f\"{str2} is a substring of {str1}.\")\n",
    "else:\n",
    "    print(f\"{str2} is not a substring of {str1}.\")\n"
   ]
  },
  {
   "cell_type": "markdown",
   "id": "a7fa12a7-8774-490a-8533-a7fc33f6c9f2",
   "metadata": {},
   "source": [
    "## 28. Find the Smallest Element in a List:"
   ]
  },
  {
   "cell_type": "code",
   "execution_count": null,
   "id": "6295f8dc-6705-4592-a5be-70b4c6949951",
   "metadata": {},
   "outputs": [],
   "source": [
    "lst = list(map(int, input(\"Enter a list of numbers separated by spaces: \").split()))\n",
    "print(\"Smallest element:\", min(lst))\n"
   ]
  },
  {
   "cell_type": "markdown",
   "id": "7f1f6e5d-f73f-48d8-a84b-f0be8b7e615d",
   "metadata": {},
   "source": [
    "## 29. Find the Largest Element in a List:"
   ]
  },
  {
   "cell_type": "code",
   "execution_count": null,
   "id": "2a39c174-a544-4800-9840-a94ae7e4e5ee",
   "metadata": {},
   "outputs": [],
   "source": [
    "lst = list(map(int, input(\"Enter a list of numbers separated by spaces: \").split()))\n",
    "print(\"Largest element:\", max(lst))\n"
   ]
  },
  {
   "cell_type": "markdown",
   "id": "9bc9e2c1-053c-4427-bca8-bc69650435b6",
   "metadata": {},
   "source": [
    "# Nested Loops:"
   ]
  },
  {
   "cell_type": "markdown",
   "id": "36440c69-07ab-4b8e-b6fe-1ad2b1bff227",
   "metadata": {},
   "source": [
    "## 30. Convert Fahrenheit to Celsius:"
   ]
  },
  {
   "cell_type": "code",
   "execution_count": null,
   "id": "82b9e48a-7672-425f-8798-4b6efeebb178",
   "metadata": {},
   "outputs": [],
   "source": [
    "fahrenheit = float(input(\"Enter temperature in Fahrenheit: \"))\n",
    "celsius = (fahrenheit - 32) * 5/9\n",
    "print(\"Temperature in Celsius:\", celsius)\n"
   ]
  },
  {
   "cell_type": "markdown",
   "id": "6b53563f-9292-4c94-ab72-c4c2d7ab37d5",
   "metadata": {},
   "source": [
    "## 31. Check if a Number is a Palindrome:"
   ]
  },
  {
   "cell_type": "code",
   "execution_count": null,
   "id": "aa29f1e1-ea94-4ed1-b353-ef4909a13d47",
   "metadata": {},
   "outputs": [],
   "source": [
    "num = int(input(\"Enter a number: \"))\n",
    "\n",
    "if str(num) == str(num)[::-1]:\n",
    "    print(f\"{num} is a palindrome.\")\n",
    "else:\n",
    "    print(f\"{num} is not a palindrome.\")\n"
   ]
  },
  {
   "cell_type": "markdown",
   "id": "276f704f-9851-466e-98de-711bceedf4bb",
   "metadata": {},
   "source": [
    "## 32. Print All Factors of a Number:"
   ]
  },
  {
   "cell_type": "code",
   "execution_count": null,
   "id": "dba73e70-077b-479e-a7af-03d1ba6cf047",
   "metadata": {},
   "outputs": [],
   "source": [
    "num = int(input(\"Enter a number: \"))\n",
    "factors = [i for i in range(1, num + 1) if num % i == 0]\n",
    "print(\"Factors:\", factors)\n"
   ]
  },
  {
   "cell_type": "markdown",
   "id": "11998a4f-3633-41c5-9ce7-405e26dec118",
   "metadata": {},
   "source": [
    "## 33. Check if a Number is Even or Odd:"
   ]
  },
  {
   "cell_type": "code",
   "execution_count": null,
   "id": "ec7c2344-1c89-4b9b-b416-691ad4c08aa2",
   "metadata": {},
   "outputs": [],
   "source": [
    "num = int(input(\"Enter a number: \"))\n",
    "if num % 2 == 0:\n",
    "    print(f\"{num} is even.\")\n",
    "else:\n",
    "    print(f\"{num} is odd.\")\n"
   ]
  },
  {
   "cell_type": "markdown",
   "id": "0d0a1856-94dd-49a7-ab65-99a249bd8db2",
   "metadata": {},
   "source": [
    "# List Problems:"
   ]
  },
  {
   "cell_type": "markdown",
   "id": "e90d7341-7bb9-4a93-8f1b-8cc9bba796d4",
   "metadata": {},
   "source": [
    "## 34. Calculate the Power of a Number:"
   ]
  },
  {
   "cell_type": "code",
   "execution_count": null,
   "id": "e04ae5b2-37c3-47c1-bb70-718262ee64a5",
   "metadata": {},
   "outputs": [],
   "source": [
    "base = int(input(\"Enter the base: \"))\n",
    "exponent = int(input(\"Enter the exponent: \"))\n",
    "result = base ** exponent\n",
    "print(f\"{base} raised to the power of {exponent} is: {result}\")\n"
   ]
  },
  {
   "cell_type": "markdown",
   "id": "fe7605f9-fd9f-444a-87b9-174ebfd9746d",
   "metadata": {},
   "source": [
    "## 35. Sum of Even Numbers in a List:"
   ]
  },
  {
   "cell_type": "code",
   "execution_count": null,
   "id": "46d02fd0-b55c-487c-b781-975809c6d1cf",
   "metadata": {},
   "outputs": [],
   "source": [
    "lst = list(map(int, input(\"Enter a list of numbers separated by spaces: \").split()))\n",
    "even_sum = sum([num for num in lst if num % 2 == 0])\n",
    "print(\"Sum of even numbers:\", even_sum)\n"
   ]
  },
  {
   "cell_type": "markdown",
   "id": "90d378a9-3c60-4d10-a1d6-dc55f81f929e",
   "metadata": {},
   "source": [
    "## 36. Find Sum of Natural Numbers Using Recursion:"
   ]
  },
  {
   "cell_type": "code",
   "execution_count": null,
   "id": "533bb344-c826-4b01-9d1d-12f2986a2412",
   "metadata": {},
   "outputs": [],
   "source": [
    "def sum_natural_numbers(n):\n",
    "    if n == 1:\n",
    "        return 1\n",
    "    return n + sum_natural_numbers(n - 1)\n",
    "\n",
    "num = int(input(\"Enter a number: \"))\n",
    "print(\"Sum of natural numbers:\", sum_natural_numbers(num))\n"
   ]
  },
  {
   "cell_type": "markdown",
   "id": "68b2f2bc-c058-418e-a89c-83adfc7313bb",
   "metadata": {},
   "source": [
    "## 37. Check if Two Strings are Equal:"
   ]
  },
  {
   "cell_type": "code",
   "execution_count": null,
   "id": "3cbbfcbf-6ce4-4731-9b7b-07099504600b",
   "metadata": {},
   "outputs": [],
   "source": [
    "str1 = input(\"Enter the first string: \")\n",
    "str2 = input(\"Enter the second string: \")\n",
    "\n",
    "if str1 == str2:\n",
    "    print(\"The strings are equal.\")\n",
    "else:\n",
    "    print(\"The strings are not equal.\")\n"
   ]
  },
  {
   "cell_type": "markdown",
   "id": "c4cca922-0ea3-4185-a779-81a669bfba4c",
   "metadata": {},
   "source": [
    "## 38. Check if a Character is a Vowel or Consonant:"
   ]
  },
  {
   "cell_type": "code",
   "execution_count": null,
   "id": "3d661dcd-d3a1-4969-ab51-7bf4d5545c02",
   "metadata": {},
   "outputs": [],
   "source": [
    "char = input(\"Enter a character: \").lower()\n",
    "\n",
    "if char in 'aeiou':\n",
    "    print(f\"{char} is a vowel.\")\n",
    "else:\n",
    "    print(f\"{char} is a consonant.\")\n"
   ]
  },
  {
   "cell_type": "markdown",
   "id": "41f1c0f2-0379-4da6-b8dc-688362c249d6",
   "metadata": {},
   "source": [
    "## 39. Count the Number of Vowels in a String:"
   ]
  },
  {
   "cell_type": "code",
   "execution_count": null,
   "id": "b404d2da-e8db-48a8-9c21-618750ec2ea5",
   "metadata": {},
   "outputs": [],
   "source": [
    "string = input(\"Enter a string: \").lower()\n",
    "vowels = [char for char in string if char in 'aeiou']\n",
    "print(\"Number of vowels:\", len(vowels))\n"
   ]
  },
  {
   "cell_type": "markdown",
   "id": "04621e25-833f-442c-988e-48b0797ad37d",
   "metadata": {},
   "source": [
    "## 40. Check if a Number is Prime (Optimized):"
   ]
  },
  {
   "cell_type": "code",
   "execution_count": null,
   "id": "9caf0d69-d1c8-405b-a6ef-431a838f0545",
   "metadata": {},
   "outputs": [],
   "source": [
    "def is_prime(n):\n",
    "    if n <= 1:\n",
    "        return False\n",
    "    for i in range(2, int(n**0.5) + 1):\n",
    "        if n % i == 0:\n",
    "            return False\n",
    "    return True\n",
    "\n",
    "num = int(input(\"Enter a number: \"))\n",
    "if is_prime(num):\n",
    "    print(f\"{num} is a prime number.\")\n",
    "else:\n",
    "    print(f\"{num} is not a prime number.\")\n"
   ]
  },
  {
   "cell_type": "markdown",
   "id": "0b5feb9d-8fe0-47f2-905c-00d8fc1f71c0",
   "metadata": {},
   "source": [
    "## 41. Find the Length of a String:"
   ]
  },
  {
   "cell_type": "code",
   "execution_count": null,
   "id": "06a14b2d-f62b-4f4b-aad3-90f4699106cb",
   "metadata": {},
   "outputs": [],
   "source": [
    "string = input(\"Enter a string: \")\n",
    "print(\"Length of the string:\", len(string))\n"
   ]
  },
  {
   "cell_type": "markdown",
   "id": "49736cf2-5f40-4a56-afb4-2d876c8f0905",
   "metadata": {},
   "source": [
    "## 42. Find the Sum of an Arithmetic Series:"
   ]
  },
  {
   "cell_type": "code",
   "execution_count": null,
   "id": "cd894f7c-8c19-4821-804f-ac88885517d4",
   "metadata": {},
   "outputs": [],
   "source": [
    "def arithmetic_sum(a, d, n):\n",
    "    return (n / 2) * (2 * a + (n - 1) * d)\n",
    "\n",
    "a = int(input(\"Enter the first term: \"))\n",
    "d = int(input(\"Enter the common difference: \"))\n",
    "n = int(input(\"Enter the number of terms: \"))\n",
    "\n",
    "print(\"Sum of the arithmetic series:\", arithmetic_sum(a, d, n))\n"
   ]
  },
  {
   "cell_type": "markdown",
   "id": "dc2165e8-f4b9-4035-bcd3-61f5678b1e37",
   "metadata": {},
   "source": [
    "## 43. Check if a String is Alphabetic:"
   ]
  },
  {
   "cell_type": "code",
   "execution_count": null,
   "id": "cdc748a8-5bc1-4bd7-87b6-8c99900ef150",
   "metadata": {},
   "outputs": [],
   "source": [
    "string = input(\"Enter a string: \")\n",
    "\n",
    "if string.isalpha():\n",
    "    print(f\"{string} contains only alphabetic characters.\")\n",
    "else:\n",
    "    print(f\"{string} contains non-alphabetic characters.\")\n"
   ]
  },
  {
   "cell_type": "markdown",
   "id": "8fd771c1-d233-4d21-85c1-143de47b5696",
   "metadata": {},
   "source": [
    "## 44. Find the Sum of All Odd Numbers in a List:"
   ]
  },
  {
   "cell_type": "code",
   "execution_count": null,
   "id": "ace2c1f0-3569-4337-9a94-44d4e3342508",
   "metadata": {},
   "outputs": [],
   "source": [
    "lst = list(map(int, input(\"Enter a list of numbers separated by spaces: \").split()))\n",
    "odd_sum = sum([num for num in lst if num % 2 != 0])\n",
    "print(\"Sum of odd numbers:\", odd_sum)\n"
   ]
  },
  {
   "cell_type": "markdown",
   "id": "a2205669-95a0-4a83-a295-3e3fb1c0fca6",
   "metadata": {},
   "source": [
    "# Nested List Problems:"
   ]
  },
  {
   "cell_type": "markdown",
   "id": "7683eef9-7a3e-438d-864f-b06edbf72114",
   "metadata": {},
   "source": [
    "## 45. Check if a Character is an Alphabet:"
   ]
  },
  {
   "cell_type": "code",
   "execution_count": null,
   "id": "a0a3dc06-04e7-4bfa-9982-c15358ac0a63",
   "metadata": {},
   "outputs": [],
   "source": [
    "char = input(\"Enter a character: \")\n",
    "\n",
    "if char.isalpha():\n",
    "    print(f\"{char} is an alphabet.\")\n",
    "else:\n",
    "    print(f\"{char} is not an alphabet.\")\n"
   ]
  },
  {
   "cell_type": "markdown",
   "id": "4da1c2e1-06b3-48df-93d7-5f8b8dfec6bc",
   "metadata": {},
   "source": [
    "## 46. Find the Average of a List:"
   ]
  },
  {
   "cell_type": "code",
   "execution_count": null,
   "id": "644bf6cb-3969-4be2-b5f2-542500f36b81",
   "metadata": {},
   "outputs": [],
   "source": [
    "lst = list(map(int, input(\"Enter a list of numbers separated by spaces: \").split()))\n",
    "avg = sum(lst) / len(lst)\n",
    "print(\"Average of the list:\", avg)\n"
   ]
  },
  {
   "cell_type": "markdown",
   "id": "94968eec-f72c-4c87-9f4c-d3e08782e648",
   "metadata": {},
   "source": [
    "## 47. Find the Median of a List:"
   ]
  },
  {
   "cell_type": "code",
   "execution_count": null,
   "id": "5bf267f0-8258-4fd3-9de8-ec9ebe88bdb0",
   "metadata": {},
   "outputs": [],
   "source": [
    "lst = list(map(int, input(\"Enter a list of numbers separated by spaces: \").split()))\n",
    "lst.sort()\n",
    "n = len(lst)\n",
    "if n % 2 == 0:\n",
    "    median = (lst[n//2 - 1] + lst[n//2]) / 2\n",
    "else:\n",
    "    median = lst[n//2]\n",
    "print(\"Median of the list:\", median)\n"
   ]
  },
  {
   "cell_type": "markdown",
   "id": "280bf660-5451-4b89-aa97-a36e3dd259d7",
   "metadata": {},
   "source": [
    "## 48. Find the Mode of a List:"
   ]
  },
  {
   "cell_type": "code",
   "execution_count": null,
   "id": "21755390-54f1-4799-bbfc-f3e7448e057c",
   "metadata": {},
   "outputs": [],
   "source": [
    "from collections import Counter\n",
    "\n",
    "lst = list(map(int, input(\"Enter a list of numbers separated by spaces: \").split()))\n",
    "data = Counter(lst)\n",
    "mode = max(data, key=data.get)\n",
    "print(\"Mode of the list:\", mode)\n"
   ]
  },
  {
   "cell_type": "markdown",
   "id": "023f88ac-8172-4b59-9ca6-a17a604e1bc5",
   "metadata": {},
   "source": [
    "## 49. Check if a String is a Pangram:"
   ]
  },
  {
   "cell_type": "code",
   "execution_count": null,
   "id": "26dc0d25-ed82-417d-acdc-0be25b86fb8f",
   "metadata": {},
   "outputs": [],
   "source": [
    "import string\n",
    "\n",
    "def is_pangram(sentence):\n",
    "    alphabet = set(string.ascii_lowercase)\n",
    "    return alphabet <= set(sentence.lower())\n",
    "\n",
    "sentence = input(\"Enter a sentence: \")\n",
    "if is_pangram(sentence):\n",
    "    print(\"The sentence is a pangram.\")\n",
    "else:\n",
    "    print(\"The sentence is not a pangram.\")\n"
   ]
  },
  {
   "cell_type": "markdown",
   "id": "e302907c-c5fd-404e-9a69-f3234cd36e8f",
   "metadata": {},
   "source": [
    "## 50. Calculate the Compound Interest:"
   ]
  },
  {
   "cell_type": "code",
   "execution_count": null,
   "id": "bc71cc77-8b7d-4996-8d69-3920029c9858",
   "metadata": {},
   "outputs": [],
   "source": [
    "principal = float(input(\"Enter the principal amount: \"))\n",
    "rate = float(input(\"Enter the interest rate: \"))\n",
    "time = float(input(\"Enter the time in years: \"))\n",
    "compound_frequency = int(input(\"Enter the number of times the interest is compounded per year: \"))\n",
    "\n",
    "amount = principal * (1 + rate / (100 * compound_frequency)) ** (compound_frequency * time)\n",
    "compound_interest = amount - principal\n",
    "print(\"Compound Interest:\", compound_interest)\n"
   ]
  },
  {
   "cell_type": "markdown",
   "id": "41315f7f-4a3e-41c1-ba1f-9e61ce5d646f",
   "metadata": {},
   "source": [
    "## 51. Convert Decimal to Binary:"
   ]
  },
  {
   "cell_type": "code",
   "execution_count": null,
   "id": "0c14581d-56ab-4777-b429-8ae2f1fca362",
   "metadata": {},
   "outputs": [],
   "source": [
    "num = int(input(\"Enter a decimal number: \"))\n",
    "print(\"Binary representation:\", bin(num)[2:])\n"
   ]
  },
  {
   "cell_type": "markdown",
   "id": "40c228ad-3334-4006-a5e0-888840024cc3",
   "metadata": {},
   "source": [
    "## 52. Convert Decimal to Octal:"
   ]
  },
  {
   "cell_type": "code",
   "execution_count": null,
   "id": "f7da5e0e-d8e3-4bb9-be40-1909e4a4c45e",
   "metadata": {},
   "outputs": [],
   "source": [
    "num = int(input(\"Enter a decimal number: \"))\n",
    "print(\"Octal representation:\", oct(num)[2:])\n"
   ]
  },
  {
   "cell_type": "markdown",
   "id": "2d781909-4791-42e6-ba9c-5c0a51308bb0",
   "metadata": {},
   "source": [
    "## 53. Convert Decimal to Hexadecimal:"
   ]
  },
  {
   "cell_type": "code",
   "execution_count": null,
   "id": "1350d3f1-b991-4d8f-b349-f264a7032b49",
   "metadata": {},
   "outputs": [],
   "source": [
    "num = int(input(\"Enter a decimal number: \"))\n",
    "print(\"Hexadecimal representation:\", hex(num)[2:].upper())\n"
   ]
  },
  {
   "cell_type": "markdown",
   "id": "27bb594e-6ae2-4267-b9b3-b31ad1f650ff",
   "metadata": {},
   "source": [
    "## 54. Reverse a List:"
   ]
  },
  {
   "cell_type": "code",
   "execution_count": null,
   "id": "53640247-038d-4018-b005-ce2fd9138879",
   "metadata": {},
   "outputs": [],
   "source": [
    "lst = list(map(int, input(\"Enter a list of numbers separated by spaces: \").split()))\n",
    "reversed_list = lst[::-1]\n",
    "print(\"Reversed list:\", reversed_list)\n"
   ]
  },
  {
   "cell_type": "markdown",
   "id": "7a54b612-ba78-4c32-8442-5af53bbf6876",
   "metadata": {},
   "source": [
    "## 55. Remove Duplicates from a List:"
   ]
  },
  {
   "cell_type": "code",
   "execution_count": null,
   "id": "cccac80d-19fa-4da1-8063-096937ae5b67",
   "metadata": {},
   "outputs": [],
   "source": [
    "lst = list(map(int, input(\"Enter a list of numbers separated by spaces: \").split()))\n",
    "unique_list = list(set(lst))\n",
    "print(\"List without duplicates:\", unique_list)\n"
   ]
  },
  {
   "cell_type": "markdown",
   "id": "074c8664-415d-4d96-94a3-53171a553a74",
   "metadata": {},
   "source": [
    "## 56. Check if a Number is a Harshad Number:"
   ]
  },
  {
   "cell_type": "code",
   "execution_count": null,
   "id": "b03e0528-49db-4e23-8440-726dc93904df",
   "metadata": {},
   "outputs": [],
   "source": [
    "num = int(input(\"Enter a number: \"))\n",
    "digit_sum = sum(int(digit) for digit in str(num))\n",
    "\n",
    "if num % digit_sum == 0:\n",
    "    print(f\"{num} is a Harshad number.\")\n",
    "else:\n",
    "    print(f\"{num} is not a Harshad number.\")\n"
   ]
  },
  {
   "cell_type": "markdown",
   "id": "5ccd24db-3a92-440d-8203-f5aa30083fdf",
   "metadata": {},
   "source": [
    "## 57. Find the First N Prime Numbers:"
   ]
  },
  {
   "cell_type": "code",
   "execution_count": null,
   "id": "f8103d19-3b46-4b4c-92d4-1b4619bda955",
   "metadata": {},
   "outputs": [],
   "source": [
    "def is_prime(n):\n",
    "    if n <= 1:\n",
    "        return False\n",
    "    for i in range(2, int(n**0.5) + 1):\n",
    "        if n % i == 0:\n",
    "            return False\n",
    "    return True\n",
    "\n",
    "n = int(input(\"Enter the number of primes: \"))\n",
    "primes = []\n",
    "num = 2\n",
    "\n",
    "while len(primes) < n:\n",
    "    if is_prime(num):\n",
    "        primes.append(num)\n",
    "    num += 1\n",
    "\n",
    "print(f\"First {n} prime numbers:\", primes)\n"
   ]
  },
  {
   "cell_type": "markdown",
   "id": "2842ed19-9539-436e-b034-4234f23495e4",
   "metadata": {},
   "source": [
    "## 58. Check if a Number is Automorphic (Square ends with the number):"
   ]
  },
  {
   "cell_type": "code",
   "execution_count": null,
   "id": "485a6c9c-e001-4d8b-9aaf-7fc1d0e6b821",
   "metadata": {},
   "outputs": [],
   "source": [
    "num = int(input(\"Enter a number: \"))\n",
    "square = num ** 2\n",
    "\n",
    "if str(square).endswith(str(num)):\n",
    "    print(f\"{num} is an Automorphic number.\")\n",
    "else:\n",
    "    print(f\"{num} is not an Automorphic number.\")\n"
   ]
  },
  {
   "cell_type": "markdown",
   "id": "814cd97a-ab08-4d37-9d65-118a9248a760",
   "metadata": {},
   "source": [
    "## 59. Find the Sum of Squares of Natural Numbers:"
   ]
  },
  {
   "cell_type": "code",
   "execution_count": null,
   "id": "29f18987-9f20-4c53-8b66-b22b54eb4768",
   "metadata": {},
   "outputs": [],
   "source": [
    "num = int(input(\"Enter a number: \"))\n",
    "sum_of_squares = sum([i**2 for i in range(1, num + 1)])\n",
    "print(\"Sum of squares of natural numbers:\", sum_of_squares)\n"
   ]
  },
  {
   "cell_type": "markdown",
   "id": "79efabfe-21a5-4265-ab16-84d146e0dc0f",
   "metadata": {},
   "source": [
    "## 60. Check if a Number is a Perfect Square:"
   ]
  },
  {
   "cell_type": "code",
   "execution_count": null,
   "id": "eb11190b-c9ba-4839-a747-a119581df125",
   "metadata": {},
   "outputs": [],
   "source": [
    "import math\n",
    "\n",
    "num = int(input(\"Enter a number: \"))\n",
    "if math.isqrt(num)**2 == num:\n",
    "    print(f\"{num} is a perfect square.\")\n",
    "else:\n",
    "    print(f\"{num} is not a perfect square.\")\n"
   ]
  },
  {
   "cell_type": "markdown",
   "id": "da1d4520-1876-408f-8fcd-33e72efac1a3",
   "metadata": {},
   "source": [
    "## 61. Count the Number of Consonants in a String:"
   ]
  },
  {
   "cell_type": "code",
   "execution_count": null,
   "id": "f3876cb3-df51-44f0-952f-3bc3be3643d6",
   "metadata": {},
   "outputs": [],
   "source": [
    "string = input(\"Enter a string: \").lower()\n",
    "consonants = [char for char in string if char.isalpha() and char not in 'aeiou']\n",
    "print(\"Number of consonants:\", len(consonants))\n"
   ]
  },
  {
   "cell_type": "markdown",
   "id": "051a6968-5b77-4925-a2f2-4469a223a328",
   "metadata": {},
   "source": [
    "## 62. Check if a Number is Kaprekar:"
   ]
  },
  {
   "cell_type": "code",
   "execution_count": null,
   "id": "4507b7a9-e597-4e37-ae62-4d390fa1417c",
   "metadata": {},
   "outputs": [],
   "source": [
    "def is_kaprekar(num):\n",
    "    square = str(num ** 2)\n",
    "    left = square[:len(square)//2] or '0'\n",
    "    right = square[len(square)//2:]\n",
    "    return int(left) + int(right) == num\n",
    "\n",
    "num = int(input(\"Enter a number: \"))\n",
    "if is_kaprekar(num):\n",
    "    print(f\"{num} is a Kaprekar number.\")\n",
    "else:\n",
    "    print(f\"{num} is not a Kaprekar number.\")\n"
   ]
  },
  {
   "cell_type": "markdown",
   "id": "40ef432b-73c3-4598-9691-1724a49b4826",
   "metadata": {},
   "source": [
    "## 63. Find the Sum of Cubes of Natural Numbers:"
   ]
  },
  {
   "cell_type": "code",
   "execution_count": null,
   "id": "11def047-285a-4a77-857d-b5fb6eed6757",
   "metadata": {},
   "outputs": [],
   "source": [
    "num = int(input(\"Enter a number: \"))\n",
    "sum_of_cubes = sum([i**3 for i in range(1, num + 1)])\n",
    "print(\"Sum of cubes of natural numbers:\", sum_of_cubes)\n"
   ]
  },
  {
   "cell_type": "markdown",
   "id": "5c7a3bde-af8c-4684-ba81-aeb3f41a380b",
   "metadata": {},
   "source": [
    "## 64. Check if a Number is a Neon Number:"
   ]
  },
  {
   "cell_type": "code",
   "execution_count": null,
   "id": "9dcbc8a0-ae47-4492-9433-5a98b13c6325",
   "metadata": {},
   "outputs": [],
   "source": [
    "num = int(input(\"Enter a number: \"))\n",
    "square = num ** 2\n",
    "digit_sum = sum(int(digit) for digit in str(square))\n",
    "\n",
    "if digit_sum == num:\n",
    "    print(f\"{num} is a Neon number.\")\n",
    "else:\n",
    "    print(f\"{num} is not a Neon number.\")\n"
   ]
  },
  {
   "cell_type": "markdown",
   "id": "09bec8eb-8819-4981-8325-a4297b5b2e1e",
   "metadata": {},
   "source": [
    "## 65. Find the Product of Digits of a Number:"
   ]
  },
  {
   "cell_type": "code",
   "execution_count": null,
   "id": "504f71fb-ec67-42cd-be4e-9305bf6cbf87",
   "metadata": {},
   "outputs": [],
   "source": [
    "num = int(input(\"Enter a number: \"))\n",
    "product = 1\n",
    "\n",
    "for digit in str(num):\n",
    "    product *= int(digit)\n",
    "\n",
    "print(\"Product of digits:\", product)\n"
   ]
  },
  {
   "cell_type": "markdown",
   "id": "0ffac021-d5a5-4cf0-9dd8-ffa4620b04d9",
   "metadata": {},
   "source": [
    "## 66. Calculate the Simple Interest:"
   ]
  },
  {
   "cell_type": "code",
   "execution_count": null,
   "id": "7287f67c-e224-4fe3-9349-14e54e3448cd",
   "metadata": {},
   "outputs": [],
   "source": [
    "principal = float(input(\"Enter the principal amount: \"))\n",
    "rate = float(input(\"Enter the interest rate: \"))\n",
    "time = float(input(\"Enter the time in years: \"))\n",
    "\n",
    "simple_interest = (principal * rate * time) / 100\n",
    "print(\"Simple Interest:\", simple_interest)\n"
   ]
  },
  {
   "cell_type": "markdown",
   "id": "5e286039-fca6-4e00-bc71-66ed10010869",
   "metadata": {},
   "source": [
    "## 67. Check if a Year is a Leap Year:"
   ]
  },
  {
   "cell_type": "code",
   "execution_count": null,
   "id": "15bc96ad-bbed-45ac-b892-6bd83e017337",
   "metadata": {},
   "outputs": [],
   "source": [
    "year = int(input(\"Enter a year: \"))\n",
    "\n",
    "if (year % 4 == 0 and year % 100 != 0) or (year % 400 == 0):\n",
    "    print(f\"{year} is a leap year.\")\n",
    "else:\n",
    "    print(f\"{year} is not a leap year.\")\n"
   ]
  },
  {
   "cell_type": "markdown",
   "id": "0a41df41-642b-4b64-80d3-92cead11dd20",
   "metadata": {},
   "source": [
    "## 68. Find the Factors of a Number:"
   ]
  },
  {
   "cell_type": "code",
   "execution_count": null,
   "id": "71efc923-ec58-4699-bb0b-2a0640c03d15",
   "metadata": {},
   "outputs": [],
   "source": [
    "num = int(input(\"Enter a number: \"))\n",
    "factors = [i for i in range(1, num + 1) if num % i == 0]\n",
    "print(\"Factors of the number:\", factors)\n"
   ]
  },
  {
   "cell_type": "markdown",
   "id": "bf4491dc-2c15-4521-b66f-6b4076958bd5",
   "metadata": {},
   "source": [
    "## 69. Find the Second Largest Number in a List:"
   ]
  },
  {
   "cell_type": "code",
   "execution_count": null,
   "id": "56f01172-6918-4798-a3a5-eb94bc02949f",
   "metadata": {},
   "outputs": [],
   "source": [
    "lst = list(map(int, input(\"Enter a list of numbers separated by spaces: \").split()))\n",
    "lst = list(set(lst))  # Remove duplicates\n",
    "lst.sort(reverse=True)\n",
    "\n",
    "if len(lst) >= 2:\n",
    "    print(\"Second largest number:\", lst[1])\n",
    "else:\n",
    "    print(\"No second largest number available.\")\n"
   ]
  },
  {
   "cell_type": "markdown",
   "id": "7d70801a-408c-4cf6-875d-237040ceecba",
   "metadata": {},
   "source": [
    "## 70. Check if a Number is a Smith Number:"
   ]
  },
  {
   "cell_type": "code",
   "execution_count": null,
   "id": "2bd177e0-72e7-4dd9-bd0d-3fc214a26943",
   "metadata": {},
   "outputs": [],
   "source": [
    "def sum_of_digits(n):\n",
    "    return sum(int(digit) for digit in str(n))\n",
    "\n",
    "def prime_factors_sum(n):\n",
    "    i = 2\n",
    "    total = 0\n",
    "    while i * i <= n:\n",
    "        while n % i == 0:\n",
    "            total += sum_of_digits(i)\n",
    "            n //= i\n",
    "        i += 1\n",
    "    if n > 1:\n",
    "        total += sum_of_digits(n)\n",
    "    return total\n",
    "\n",
    "num = int(input(\"Enter a number: \"))\n",
    "if num > 1 and prime_factors_sum(num) == sum_of_digits(num):\n",
    "    print(f\"{num} is a Smith number.\")\n",
    "else:\n",
    "    print(f\"{num} is not a Smith number.\")\n"
   ]
  },
  {
   "cell_type": "markdown",
   "id": "7bf158bf-9c8f-4f0f-a71d-9685304f5146",
   "metadata": {},
   "source": [
    "## 71. Convert Binary to Decimal:"
   ]
  },
  {
   "cell_type": "code",
   "execution_count": null,
   "id": "cd7469d2-aebf-46e4-b832-bb5d0a5398c1",
   "metadata": {},
   "outputs": [],
   "source": [
    "binary_str = input(\"Enter a binary number: \")\n",
    "decimal = int(binary_str, 2)\n",
    "print(\"Decimal equivalent:\", decimal)\n"
   ]
  },
  {
   "cell_type": "markdown",
   "id": "b7f833f4-b097-4b51-baeb-851285a678f5",
   "metadata": {},
   "source": [
    "## 72. Convert Octal to Decimal:"
   ]
  },
  {
   "cell_type": "code",
   "execution_count": null,
   "id": "c02ab99e-6316-48c6-bc6d-9dbfbffe5c1d",
   "metadata": {},
   "outputs": [],
   "source": [
    "octal_str = input(\"Enter an octal number: \")\n",
    "decimal = int(octal_str, 8)\n",
    "print(\"Decimal equivalent:\", decimal)\n"
   ]
  },
  {
   "cell_type": "markdown",
   "id": "bf3f3453-23c7-48b6-8126-827f3f83327f",
   "metadata": {},
   "source": [
    "## 73. Convert Hexadecimal to Decimal:"
   ]
  },
  {
   "cell_type": "code",
   "execution_count": null,
   "id": "2f1ad2ca-2b97-405a-a63b-25ea15099193",
   "metadata": {},
   "outputs": [],
   "source": [
    "hex_str = input(\"Enter a hexadecimal number: \")\n",
    "decimal = int(hex_str, 16)\n",
    "print(\"Decimal equivalent:\", decimal)\n"
   ]
  },
  {
   "cell_type": "markdown",
   "id": "1cd17d04-365d-491b-9a08-b88fdc792a79",
   "metadata": {},
   "source": [
    "## 74. Check if a Number is an Armstrong Number in a Range:"
   ]
  },
  {
   "cell_type": "code",
   "execution_count": null,
   "id": "b5638147-b186-4ef3-9dd1-c53378bd030f",
   "metadata": {},
   "outputs": [],
   "source": [
    "def is_armstrong(n):\n",
    "    num_str = str(n)\n",
    "    power = len(num_str)\n",
    "    return sum(int(digit) ** power for digit in num_str) == n\n",
    "\n",
    "lower = int(input(\"Enter the lower range: \"))\n",
    "upper = int(input(\"Enter the upper range: \"))\n",
    "\n",
    "print(f\"Armstrong numbers between {lower} and {upper}:\")\n",
    "for num in range(lower, upper + 1):\n",
    "    if is_armstrong(num):\n",
    "        print(num)\n"
   ]
  },
  {
   "cell_type": "markdown",
   "id": "8d2228bb-2752-4d7f-98fd-b26d3a96d638",
   "metadata": {},
   "source": [
    "## 75. Calculate the Perimeter of a Rectangle:"
   ]
  },
  {
   "cell_type": "code",
   "execution_count": null,
   "id": "3ff8549c-bc56-4f81-86d4-16db27cae4c8",
   "metadata": {},
   "outputs": [],
   "source": [
    "length = float(input(\"Enter the length of the rectangle: \"))\n",
    "width = float(input(\"Enter the width of the rectangle: \"))\n",
    "\n",
    "perimeter = 2 * (length + width)\n",
    "print(\"Perimeter of the rectangle:\", perimeter)\n"
   ]
  },
  {
   "cell_type": "markdown",
   "id": "3beedec6-6cc4-43fe-a15b-0e32b46e6cbb",
   "metadata": {},
   "source": [
    "## 76. Calculate the Area of a Triangle:"
   ]
  },
  {
   "cell_type": "code",
   "execution_count": null,
   "id": "3d60dfb0-1cac-41ab-8130-74f785233462",
   "metadata": {},
   "outputs": [],
   "source": [
    "base = float(input(\"Enter the base of the triangle: \"))\n",
    "height = float(input(\"Enter the height of the triangle: \"))\n",
    "\n",
    "area = 0.5 * base * height\n",
    "print(\"Area of the triangle:\", area)\n"
   ]
  },
  {
   "cell_type": "markdown",
   "id": "5c72d588-9e90-47bc-b0b8-69a5b961a436",
   "metadata": {},
   "source": [
    "## 77. Find the Sum of Prime Numbers up to a Given Number:"
   ]
  },
  {
   "cell_type": "code",
   "execution_count": null,
   "id": "3c46eebf-ce82-4da1-8b31-71d0ee0fb4e1",
   "metadata": {},
   "outputs": [],
   "source": [
    "def is_prime(n):\n",
    "    if n <= 1:\n",
    "        return False\n",
    "    for i in range(2, int(n**0.5) + 1):\n",
    "        if n % i == 0:\n",
    "            return False\n",
    "    return True\n",
    "\n",
    "upper = int(input(\"Enter the upper limit: \"))\n",
    "prime_sum = sum(num for num in range(2, upper + 1) if is_prime(num))\n",
    "print(f\"Sum of prime numbers up to {upper}:\", prime_sum)\n"
   ]
  },
  {
   "cell_type": "markdown",
   "id": "4c15a2ae-2efd-49a4-895f-a5f51a644c17",
   "metadata": {},
   "source": [
    "## 78. Check if Two Strings are Anagrams:"
   ]
  },
  {
   "cell_type": "code",
   "execution_count": null,
   "id": "8487a02c-262e-4310-88c8-fe08bc0d9168",
   "metadata": {},
   "outputs": [],
   "source": [
    "str1 = input(\"Enter the first string: \").lower().replace(\" \", \"\")\n",
    "str2 = input(\"Enter the second string: \").lower().replace(\" \", \"\")\n",
    "\n",
    "if sorted(str1) == sorted(str2):\n",
    "    print(\"The strings are anagrams.\")\n",
    "else:\n",
    "    print(\"The strings are not anagrams.\")\n"
   ]
  },
  {
   "cell_type": "markdown",
   "id": "0994de41-280e-41e8-886b-d666cf7f9d95",
   "metadata": {},
   "source": [
    "## 79. Find the Fibonacci Sequence up to N Terms:"
   ]
  },
  {
   "cell_type": "code",
   "execution_count": null,
   "id": "39bf838f-cc44-4792-816f-6063817f99da",
   "metadata": {},
   "outputs": [],
   "source": [
    "n = int(input(\"Enter the number of terms: \"))\n",
    "a, b = 0, 1\n",
    "\n",
    "if n == 1:\n",
    "    print(a)\n",
    "else:\n",
    "    print(a, b, end=\" \")\n",
    "    for _ in range(2, n):\n",
    "        a, b = b, a + b\n",
    "        print(b, end=\" \")\n"
   ]
  },
  {
   "cell_type": "markdown",
   "id": "baecaac2-0185-4134-b643-467ec966a689",
   "metadata": {},
   "source": [
    "## 80. Find the Prime Factors of a Number:"
   ]
  },
  {
   "cell_type": "code",
   "execution_count": null,
   "id": "e5f7e99b-cef6-469d-bf15-f49cd3937ad2",
   "metadata": {},
   "outputs": [],
   "source": [
    "def prime_factors(n):\n",
    "    i = 2\n",
    "    factors = []\n",
    "    while i * i <= n:\n",
    "        while n % i == 0:\n",
    "            factors.append(i)\n",
    "            n //= i\n",
    "        i += 1\n",
    "    if n > 1:\n",
    "        factors.append(n)\n",
    "    return factors\n",
    "\n",
    "num = int(input(\"Enter a number: \"))\n",
    "print(\"Prime factors:\", prime_factors(num))\n"
   ]
  },
  {
   "cell_type": "markdown",
   "id": "531dc1cc-848f-4dc6-8584-f53ff48e5164",
   "metadata": {},
   "source": [
    "## 81. Find the GCD of Two Numbers:"
   ]
  },
  {
   "cell_type": "code",
   "execution_count": null,
   "id": "af7d5bc8-a8d1-4b91-b6a2-74ad9c8e9344",
   "metadata": {},
   "outputs": [],
   "source": [
    "def gcd(a, b):\n",
    "    while b:\n",
    "        a, b = b, a % b\n",
    "    return a\n",
    "\n",
    "a = int(input(\"Enter the first number: \"))\n",
    "b = int(input(\"Enter the second number: \"))\n",
    "\n",
    "print(\"GCD of the two numbers:\", gcd(a, b))\n"
   ]
  },
  {
   "cell_type": "markdown",
   "id": "9ffd0115-1dc6-440e-9e2a-aedf614f8507",
   "metadata": {},
   "source": [
    "## 82. Find the LCM of Two Numbers:"
   ]
  },
  {
   "cell_type": "code",
   "execution_count": null,
   "id": "d1fd976f-11be-4737-a6b8-993d62369f32",
   "metadata": {},
   "outputs": [],
   "source": [
    "def gcd(a, b):\n",
    "    while b:\n",
    "        a, b = b, a % b\n",
    "    return a\n",
    "\n",
    "def lcm(a, b):\n",
    "    return a * b // gcd(a, b)\n",
    "\n",
    "a = int(input(\"Enter the first number: \"))\n",
    "b = int(input(\"Enter the second number: \"))\n",
    "\n",
    "print(\"LCM of the two numbers:\", lcm(a, b))\n"
   ]
  },
  {
   "cell_type": "markdown",
   "id": "a17a2963-c884-4be9-85f0-d663473bc5ab",
   "metadata": {},
   "source": [
    "## 83. Calculate the Power of a Number:"
   ]
  },
  {
   "cell_type": "code",
   "execution_count": null,
   "id": "706cb37c-a5df-4fb7-806d-078883d84d53",
   "metadata": {},
   "outputs": [],
   "source": [
    "base = float(input(\"Enter the base: \"))\n",
    "exponent = int(input(\"Enter the exponent: \"))\n",
    "\n",
    "result = base ** exponent\n",
    "print(f\"{base} raised to the power {exponent} is {result}\")\n"
   ]
  },
  {
   "cell_type": "markdown",
   "id": "4e5570fd-2109-4d7e-b568-cfb58c77f03b",
   "metadata": {},
   "source": [
    "## 84. Check if a Number is a Strong Number:"
   ]
  },
  {
   "cell_type": "code",
   "execution_count": null,
   "id": "40c6b398-e2fa-4cd4-a2c1-0f375fa8b257",
   "metadata": {},
   "outputs": [],
   "source": [
    "import math\n",
    "\n",
    "def is_strong(num):\n",
    "    return sum(math.factorial(int(digit)) for digit in str(num)) == num\n",
    "\n",
    "num = int(input(\"Enter a number: \"))\n",
    "\n",
    "if is_strong(num):\n",
    "    print(f\"{num} is a Strong number.\")\n",
    "else:\n",
    "    print(f\"{num} is not a Strong number.\")\n"
   ]
  },
  {
   "cell_type": "markdown",
   "id": "722fa872-2f9d-4c1f-9940-637b6e1b5d1d",
   "metadata": {},
   "source": [
    "## 85. Find the Sum of the Digits of a Number:"
   ]
  },
  {
   "cell_type": "code",
   "execution_count": null,
   "id": "b955d5cc-8e11-4a95-90fd-7f57d961c478",
   "metadata": {},
   "outputs": [],
   "source": [
    "num = int(input(\"Enter a number: \"))\n",
    "digit_sum = sum(int(digit) for digit in str(num))\n",
    "print(\"Sum of the digits:\", digit_sum)\n"
   ]
  },
  {
   "cell_type": "markdown",
   "id": "1607496b-596b-4268-977d-ae9289e4fbdc",
   "metadata": {},
   "source": [
    "## 86. Check if a String is a Palindrome:"
   ]
  },
  {
   "cell_type": "code",
   "execution_count": null,
   "id": "ac6b98fa-57b8-482c-a4bc-6fff0b0c01ee",
   "metadata": {},
   "outputs": [],
   "source": [
    "string = input(\"Enter a string: \")\n",
    "\n",
    "if string == string[::-1]:\n",
    "    print(\"The string is a palindrome.\")\n",
    "else:\n",
    "    print(\"The string is not a palindrome.\")\n"
   ]
  },
  {
   "cell_type": "markdown",
   "id": "45206958-4a6f-4a81-b35d-cfc5805f14f3",
   "metadata": {},
   "source": [
    "## 87. Find the Factorial of a Number:"
   ]
  },
  {
   "cell_type": "code",
   "execution_count": null,
   "id": "22de0681-6477-4c6a-ac9d-b2319015ec29",
   "metadata": {},
   "outputs": [],
   "source": [
    "def factorial(n):\n",
    "    return 1 if n == 0 else n * factorial(n - 1)\n",
    "\n",
    "num = int(input(\"Enter a number: \"))\n",
    "print(\"Factorial of the number:\", factorial(num))\n"
   ]
  },
  {
   "cell_type": "markdown",
   "id": "f8fd1ef3-8be8-4b7e-88dc-4d4a8fe450c6",
   "metadata": {},
   "source": [
    "## 88. Find the Fibonacci Number at Position N:"
   ]
  },
  {
   "cell_type": "code",
   "execution_count": null,
   "id": "651d12c7-7855-43ec-964a-f115525160e4",
   "metadata": {},
   "outputs": [],
   "source": [
    "def fibonacci(n):\n",
    "    a, b = 0, 1\n",
    "    for _ in range(n):\n",
    "        a, b = b, a + b\n",
    "    return a\n",
    "\n",
    "n = int(input(\"Enter the position: \"))\n",
    "print(f\"Fibonacci number at position {n}:\", fibonacci(n))\n"
   ]
  },
  {
   "cell_type": "markdown",
   "id": "1620d70c-e333-4593-8d94-f96ebc4e9aac",
   "metadata": {},
   "source": [
    "## 89. Check if a Number is a Perfect Number:"
   ]
  },
  {
   "cell_type": "code",
   "execution_count": null,
   "id": "a2343ffb-d137-484d-9e23-bd4523d672e9",
   "metadata": {},
   "outputs": [],
   "source": [
    "def is_perfect(n):\n",
    "    return sum(i for i in range(1, n) if n % i == 0) == n\n",
    "\n",
    "num = int(input(\"Enter a number: \"))\n",
    "\n",
    "if is_perfect(num):\n",
    "    print(f\"{num} is a perfect number.\")\n",
    "else:\n",
    "    print(f\"{num} is not a perfect number.\")\n"
   ]
  },
  {
   "cell_type": "markdown",
   "id": "5ca1de68-7d59-4753-a8a3-28ec7f336669",
   "metadata": {},
   "source": [
    "## 90. Check if a Number is Prime:"
   ]
  },
  {
   "cell_type": "code",
   "execution_count": null,
   "id": "6cd838db-0ece-4c9d-8fc0-a16642aefd02",
   "metadata": {},
   "outputs": [],
   "source": [
    "def is_prime(n):\n",
    "    if n <= 1:\n",
    "        return False\n",
    "    for i in range(2, int(n**0.5) + 1):\n",
    "        if n % i == 0:\n",
    "            return False\n",
    "    return True\n",
    "\n",
    "num = int(input(\"Enter a number: \"))\n",
    "\n",
    "if is_prime(num):\n",
    "    print(f\"{num} is a prime number.\")\n",
    "else:\n",
    "    print(f\"{num} is not a prime number.\")\n",
    "\n"
   ]
  },
  {
   "cell_type": "markdown",
   "id": "ba3c1ca5-8c20-4cfa-b5f8-75851e8b4e84",
   "metadata": {},
   "source": [
    "## 91. Check if a String is Alphanumeric:"
   ]
  },
  {
   "cell_type": "code",
   "execution_count": null,
   "id": "f75e50a0-1165-44ef-923a-d79a61236f63",
   "metadata": {},
   "outputs": [],
   "source": [
    "string = input(\"Enter a string: \")\n",
    "\n",
    "if string.isalnum():\n",
    "    print(f\"{string} is alphanumeric.\")\n",
    "else:\n",
    "    print(f\"{string} is not alphanumeric.\")\n"
   ]
  },
  {
   "cell_type": "markdown",
   "id": "cc8b0c8f-993b-4778-8b01-c7ba724c270b",
   "metadata": {},
   "source": [
    "## 92. Find the Maximum of Three Numbers:"
   ]
  },
  {
   "cell_type": "code",
   "execution_count": null,
   "id": "378b4aa7-9dd0-42e7-a706-883dffb426fa",
   "metadata": {},
   "outputs": [],
   "source": [
    "a = int(input(\"Enter the first number: \"))\n",
    "b = int(input(\"Enter the second number: \"))\n",
    "c = int(input(\"Enter the third number: \"))\n",
    "\n",
    "max_num = max(a, b, c)\n",
    "print(\"The largest number is:\", max_num)\n"
   ]
  },
  {
   "cell_type": "markdown",
   "id": "67a891ed-e0c1-4b60-a260-1ec363a5b4c5",
   "metadata": {},
   "source": [
    "## 93. Check if Two Strings are Equal:"
   ]
  },
  {
   "cell_type": "code",
   "execution_count": null,
   "id": "a01a2ac2-88b9-475d-be8c-fbf2d7f77d03",
   "metadata": {},
   "outputs": [],
   "source": [
    "str1 = input(\"Enter the first string: \")\n",
    "str2 = input(\"Enter the second string: \")\n",
    "\n",
    "if str1 == str2:\n",
    "    print(\"The strings are equal.\")\n",
    "else:\n",
    "    print(\"The strings are not equal.\")\n"
   ]
  },
  {
   "cell_type": "markdown",
   "id": "56594073-c757-4976-99ff-2f52f6286503",
   "metadata": {},
   "source": [
    "## 94. Calculate the Area of a Circle:"
   ]
  },
  {
   "cell_type": "code",
   "execution_count": null,
   "id": "2e6ee9b1-b67e-40a9-8149-596a7a7d1a27",
   "metadata": {},
   "outputs": [],
   "source": [
    "import math\n",
    "\n",
    "radius = float(input(\"Enter the radius of the circle: \"))\n",
    "area = math.pi * radius ** 2\n",
    "print(\"Area of the circle:\", area)\n"
   ]
  },
  {
   "cell_type": "markdown",
   "id": "eada71a3-850a-4311-9a76-ef8dd16b06c1",
   "metadata": {},
   "source": [
    "## 95. Find the ASCII Value of a Character:"
   ]
  },
  {
   "cell_type": "code",
   "execution_count": null,
   "id": "9b80ec4e-d753-4846-9206-13b6d0856a90",
   "metadata": {},
   "outputs": [],
   "source": [
    "char = input(\"Enter a character: \")\n",
    "print(f\"The ASCII value of {char} is {ord(char)}\")\n"
   ]
  },
  {
   "cell_type": "markdown",
   "id": "28164112-d838-485d-9cd2-10a356a20b98",
   "metadata": {},
   "source": [
    "## 96. Swap Two Numbers Without Using a Temporary Variable:"
   ]
  },
  {
   "cell_type": "code",
   "execution_count": null,
   "id": "a0a4c970-ce3c-4cd4-b5e0-11ba108bdead",
   "metadata": {},
   "outputs": [],
   "source": [
    "a = int(input(\"Enter the first number: \"))\n",
    "b = int(input(\"Enter the second number: \"))\n",
    "\n",
    "a, b = b, a\n",
    "\n",
    "print(\"After swapping:\")\n",
    "print(f\"First number: {a}\")\n",
    "print(f\"Second number: {b}\")\n"
   ]
  },
  {
   "cell_type": "markdown",
   "id": "1024233f-348b-4517-8571-0a07e7d10430",
   "metadata": {},
   "source": [
    "## 97. Calculate the Sum of Natural Numbers:"
   ]
  },
  {
   "cell_type": "code",
   "execution_count": null,
   "id": "313cb6c4-293c-499b-9258-4e8881ff20e8",
   "metadata": {},
   "outputs": [],
   "source": [
    "num = int(input(\"Enter a number: \"))\n",
    "natural_sum = num * (num + 1) // 2\n",
    "print(\"Sum of natural numbers:\", natural_sum)\n"
   ]
  },
  {
   "cell_type": "markdown",
   "id": "938a4e30-106e-4f91-a62c-2191932917d0",
   "metadata": {},
   "source": [
    "## 98. Check if a Number is Even or Odd:"
   ]
  },
  {
   "cell_type": "code",
   "execution_count": null,
   "id": "426158f2-db48-4106-b062-e91a2ccbc747",
   "metadata": {},
   "outputs": [],
   "source": [
    "num = int(input(\"Enter a number: \"))\n",
    "\n",
    "if num % 2 == 0:\n",
    "    print(f\"{num} is even.\")\n",
    "else:\n",
    "    print(f\"{num} is odd.\")\n"
   ]
  },
  {
   "cell_type": "markdown",
   "id": "2d989be5-c998-44ec-a0f5-4eaefaa91fae",
   "metadata": {},
   "source": [
    "## 99. Find the Smallest of Three Numbers:"
   ]
  },
  {
   "cell_type": "code",
   "execution_count": null,
   "id": "11d23a6b-41e5-42bc-88a6-0f2c9cc09e8c",
   "metadata": {},
   "outputs": [],
   "source": [
    "a = int(input(\"Enter the first number: \"))\n",
    "b = int(input(\"Enter the second number: \"))\n",
    "c = int(input(\"Enter the third number: \"))\n",
    "\n",
    "min_num = min(a, b, c)\n",
    "print(\"The smallest number is:\", min_num)\n"
   ]
  },
  {
   "cell_type": "markdown",
   "id": "f1790067-c1e7-4b42-bb59-0d6909651556",
   "metadata": {},
   "source": [
    "## 100. Find the Square of a Number:"
   ]
  },
  {
   "cell_type": "code",
   "execution_count": null,
   "id": "26bb96c3-a012-4c4a-abb3-9f0e48496a8d",
   "metadata": {},
   "outputs": [],
   "source": [
    "num = int(input(\"Enter a number: \"))\n",
    "square = num ** 2\n",
    "print(f\"The square of {num} is {square}\")\n"
   ]
  },
  {
   "cell_type": "markdown",
   "id": "5efa67fa-abde-4628-a73a-7013542f28a7",
   "metadata": {},
   "source": [
    "## 101. Check if a String Contains Only Digits:"
   ]
  },
  {
   "cell_type": "code",
   "execution_count": null,
   "id": "19400205-229c-4220-8083-694b0530b08e",
   "metadata": {},
   "outputs": [],
   "source": [
    "string = input(\"Enter a string: \")\n",
    "\n",
    "if string.isdigit():\n",
    "    print(f\"{string} contains only digits.\")\n",
    "else:\n",
    "    print(f\"{string} contains non-digit characters.\")\n"
   ]
  },
  {
   "cell_type": "markdown",
   "id": "5b298ac9-2b6b-421a-8660-e67484d4851f",
   "metadata": {},
   "source": [
    "## 102. Find the Cube of a Number:"
   ]
  },
  {
   "cell_type": "code",
   "execution_count": null,
   "id": "edb3333d-e391-4129-afb4-930afde71777",
   "metadata": {},
   "outputs": [],
   "source": [
    "num = int(input(\"Enter a number: \"))\n",
    "cube = num ** 3\n",
    "print(f\"The cube of {num} is {cube}\")\n"
   ]
  },
  {
   "cell_type": "markdown",
   "id": "c5cbdadf-327f-4e64-bc52-ce7da73e6906",
   "metadata": {},
   "source": [
    "## 103. Check if a Number is Positive, Negative, or Zero:"
   ]
  },
  {
   "cell_type": "code",
   "execution_count": null,
   "id": "1b01d629-94fb-405d-95e8-621f70e3aeec",
   "metadata": {},
   "outputs": [],
   "source": [
    "num = float(input(\"Enter a number: \"))\n",
    "\n",
    "if num > 0:\n",
    "    print(f\"{num} is positive.\")\n",
    "elif num < 0:\n",
    "    print(f\"{num} is negative.\")\n",
    "else:\n",
    "    print(\"The number is zero.\")\n"
   ]
  },
  {
   "cell_type": "markdown",
   "id": "41ec1289-4d0b-420f-bc6e-abdde0857cbe",
   "metadata": {},
   "source": [
    "## 104. Reverse a String:"
   ]
  },
  {
   "cell_type": "code",
   "execution_count": null,
   "id": "ff82c6af-bd3b-4842-8033-a0f4118bb6e0",
   "metadata": {},
   "outputs": [],
   "source": [
    "string = input(\"Enter a string: \")\n",
    "reversed_string = string[::-1]\n",
    "print(\"Reversed string:\", reversed_string)\n"
   ]
  },
  {
   "cell_type": "markdown",
   "id": "72b51d70-b18e-493f-b256-d7019dff33a6",
   "metadata": {},
   "source": [
    "## 105. Calculate the Sum of N Natural Numbers:"
   ]
  },
  {
   "cell_type": "code",
   "execution_count": null,
   "id": "12a50e9d-13ad-44f5-817b-a46bc8269966",
   "metadata": {},
   "outputs": [],
   "source": [
    "n = int(input(\"Enter a number: \"))\n",
    "total_sum = sum(range(1, n + 1))\n",
    "print(f\"Sum of the first {n} natural numbers is {total_sum}\")\n"
   ]
  },
  {
   "cell_type": "markdown",
   "id": "7b0675ca-8ab9-425b-a7ec-c3000a19bdfc",
   "metadata": {},
   "source": [
    "## 106. Check if a Character is a Vowel or Consonant:"
   ]
  },
  {
   "cell_type": "code",
   "execution_count": null,
   "id": "429e32e0-169b-4bf8-8768-15041bcc318c",
   "metadata": {},
   "outputs": [],
   "source": [
    "char = input(\"Enter a character: \").lower()\n",
    "\n",
    "if char in 'aeiou':\n",
    "    print(f\"{char} is a vowel.\")\n",
    "else:\n",
    "    print(f\"{char} is a consonant.\")\n"
   ]
  },
  {
   "cell_type": "markdown",
   "id": "89a79638-2e4a-406d-80ba-b6c0a57c125b",
   "metadata": {},
   "source": [
    "## 107. Find the Largest of Two Numbers:"
   ]
  },
  {
   "cell_type": "code",
   "execution_count": null,
   "id": "8b5119cd-7464-4385-9cc9-83fe10186c21",
   "metadata": {},
   "outputs": [],
   "source": [
    "a = int(input(\"Enter the first number: \"))\n",
    "b = int(input(\"Enter the second number: \"))\n",
    "\n",
    "if a > b:\n",
    "    print(f\"The largest number is {a}.\")\n",
    "else:\n",
    "    print(f\"The largest number is {b}.\")\n"
   ]
  },
  {
   "cell_type": "markdown",
   "id": "e3201580-78f6-48cd-a975-33e73e168f50",
   "metadata": {},
   "source": [
    "## 108. Find the Sum of Two Numbers:"
   ]
  },
  {
   "cell_type": "code",
   "execution_count": null,
   "id": "64a98011-bd6d-4f88-8ac0-9178bc2a918e",
   "metadata": {},
   "outputs": [],
   "source": [
    "a = int(input(\"Enter the first number: \"))\n",
    "b = int(input(\"Enter the second number: \"))\n",
    "\n",
    "print(f\"The sum of {a} and {b} is {a + b}.\")\n"
   ]
  },
  {
   "cell_type": "markdown",
   "id": "a2f13495-aa9a-4813-a6c0-403b6bcfd5fe",
   "metadata": {},
   "source": [
    "## 109. Check if a Number is Divisible by Another:"
   ]
  },
  {
   "cell_type": "code",
   "execution_count": null,
   "id": "2af938e9-527e-4f0a-b9d5-430356fefea0",
   "metadata": {},
   "outputs": [],
   "source": [
    "a = int(input(\"Enter the first number: \"))\n",
    "b = int(input(\"Enter the second number: \"))\n",
    "\n",
    "if a % b == 0:\n",
    "    print(f\"{a} is divisible by {b}.\")\n",
    "else:\n",
    "    print(f\"{a} is not divisible by {b}.\")\n"
   ]
  },
  {
   "cell_type": "markdown",
   "id": "1d057696-1cce-442b-8584-d0dd351584e1",
   "metadata": {},
   "source": [
    "## 110. Calculate the Average of Two Numbers:"
   ]
  },
  {
   "cell_type": "code",
   "execution_count": null,
   "id": "26287cf6-b77f-457e-a1bc-82e54c18d665",
   "metadata": {},
   "outputs": [],
   "source": [
    "a = float(input(\"Enter the first number: \"))\n",
    "b = float(input(\"Enter the second number: \"))\n",
    "\n",
    "average = (a + b) / 2\n",
    "print(\"The average is:\", average)\n"
   ]
  },
  {
   "cell_type": "markdown",
   "id": "17242cd9-198f-442e-b44f-1204859741d7",
   "metadata": {},
   "source": [
    "## 111. Calculate the Area of a Square:"
   ]
  },
  {
   "cell_type": "code",
   "execution_count": null,
   "id": "4bdb9ae7-8d21-4077-8c2d-08b7d57c2e77",
   "metadata": {},
   "outputs": [],
   "source": [
    "side = float(input(\"Enter the side length of the square: \"))\n",
    "area = side ** 2\n",
    "print(\"Area of the square:\", area)\n"
   ]
  },
  {
   "cell_type": "markdown",
   "id": "95bafa0e-8af2-46d8-b8c0-44c6242d17c3",
   "metadata": {},
   "source": [
    "## 112. Check if a String Contains Only Alphabets:"
   ]
  },
  {
   "cell_type": "code",
   "execution_count": null,
   "id": "f5516051-0a06-49ac-80f9-deae7e77b28c",
   "metadata": {},
   "outputs": [],
   "source": [
    "string = input(\"Enter a string: \")\n",
    "\n",
    "if string.isalpha():\n",
    "    print(f\"{string} contains only alphabets.\")\n",
    "else:\n",
    "    print(f\"{string} contains non-alphabet characters.\")\n"
   ]
  },
  {
   "cell_type": "markdown",
   "id": "b659d15b-7b31-4053-a5d7-8e8ac204e431",
   "metadata": {},
   "source": [
    "## 113. Find the Square Root of a Number:"
   ]
  },
  {
   "cell_type": "code",
   "execution_count": null,
   "id": "30bcaab9-f626-4d8f-83ad-1fac45336a68",
   "metadata": {},
   "outputs": [],
   "source": [
    "import math\n",
    "\n",
    "num = float(input(\"Enter a number: \"))\n",
    "square_root = math.sqrt(num)\n",
    "print(f\"The square root of {num} is {square_root}\")\n"
   ]
  },
  {
   "cell_type": "markdown",
   "id": "31035787-c959-48f2-b69c-4a2c6c3b6d62",
   "metadata": {},
   "source": [
    "## 114. Find the Length of a String:"
   ]
  },
  {
   "cell_type": "code",
   "execution_count": null,
   "id": "e8826162-e165-4777-9fc4-3e2834ac1c9c",
   "metadata": {},
   "outputs": [],
   "source": [
    "string = input(\"Enter a string: \")\n",
    "length = len(string)\n",
    "print(\"Length of the string:\", length)\n"
   ]
  },
  {
   "cell_type": "markdown",
   "id": "c490e4d9-997b-4581-b000-07643e0cb393",
   "metadata": {},
   "source": [
    "## 115. Check if a Character is an Alphabet:"
   ]
  },
  {
   "cell_type": "code",
   "execution_count": null,
   "id": "5bb41a21-9f93-4a6b-92cf-8062ab580e5f",
   "metadata": {},
   "outputs": [],
   "source": [
    "char = input(\"Enter a character: \")\n",
    "\n",
    "if char.isalpha():\n",
    "    print(f\"{char} is an alphabet.\")\n",
    "else:\n",
    "    print(f\"{char} is not an alphabet.\")\n"
   ]
  }
 ],
 "metadata": {
  "kernelspec": {
   "display_name": "Python 3 (ipykernel)",
   "language": "python",
   "name": "python3"
  },
  "language_info": {
   "codemirror_mode": {
    "name": "ipython",
    "version": 3
   },
   "file_extension": ".py",
   "mimetype": "text/x-python",
   "name": "python",
   "nbconvert_exporter": "python",
   "pygments_lexer": "ipython3",
   "version": "3.12.3"
  }
 },
 "nbformat": 4,
 "nbformat_minor": 5
}
